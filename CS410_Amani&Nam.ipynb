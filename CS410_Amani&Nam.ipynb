{
  "nbformat": 4,
  "nbformat_minor": 0,
  "metadata": {
    "colab": {
      "provenance": [],
      "authorship_tag": "ABX9TyPJ3o/NV0XmqFQKn805Z85F",
      "include_colab_link": true
    },
    "kernelspec": {
      "name": "python3",
      "display_name": "Python 3"
    },
    "language_info": {
      "name": "python"
    }
  },
  "cells": [
    {
      "cell_type": "markdown",
      "metadata": {
        "id": "view-in-github",
        "colab_type": "text"
      },
      "source": [
        "<a href=\"https://colab.research.google.com/github/JustRudyRodriguez/Habit_Helper/blob/master/CS410_Amani%26Nam.ipynb\" target=\"_parent\"><img src=\"https://colab.research.google.com/assets/colab-badge.svg\" alt=\"Open In Colab\"/></a>"
      ]
    },
    {
      "cell_type": "code",
      "execution_count": null,
      "metadata": {
        "colab": {
          "base_uri": "https://localhost:8080/"
        },
        "id": "RWhO1SXopHCy",
        "outputId": "7f3e6697-16b5-4aa7-f8aa-e9ad6d9cafff"
      },
      "outputs": [
        {
          "output_type": "stream",
          "name": "stdout",
          "text": [
            "Drive already mounted at /content/gdrive; to attempt to forcibly remount, call drive.mount(\"/content/gdrive\", force_remount=True).\n"
          ]
        }
      ],
      "source": [
        "import pandas as pd\n",
        "import numpy as np\n",
        "from google.colab import drive\n",
        "drive.mount('/content/gdrive')"
      ]
    },
    {
      "cell_type": "code",
      "source": [
        "file = ('/content/gdrive/MyDrive/CS410_FinalProject/reading_habit.csv')\n",
        "df = pd.read_csv(file) \n",
        "df"
      ],
      "metadata": {
        "colab": {
          "base_uri": "https://localhost:8080/",
          "height": 991
        },
        "id": "DHNjZcxVpPEz",
        "outputId": "5f1d9351-8740-48ab-d560-d4e1976d5486"
      },
      "execution_count": null,
      "outputs": [
        {
          "output_type": "execute_result",
          "data": {
            "text/plain": [
              "      Age     Sex                             Race     Marital status?  \\\n",
              "0      66    Male                          Refused            Divorced   \n",
              "1      46    Male  Native American/American Indian             Married   \n",
              "2      32    Male                       Mixed race  Never been married   \n",
              "3      27    Male                       Mixed race             Married   \n",
              "4      16  Female                       Mixed race  Never been married   \n",
              "...   ...     ...                              ...                 ...   \n",
              "2827   18    Male                            White  Never been married   \n",
              "2828   17    Male                            White  Never been married   \n",
              "2829   17  Female                            White  Never been married   \n",
              "2830   16    Male                            White  Never been married   \n",
              "2831   16    Male                            White  Never been married   \n",
              "\n",
              "                   Education           Employement  \\\n",
              "0           College graduate               Retired   \n",
              "1       High school graduate    Employed full-time   \n",
              "2       High school graduate    Employed full-time   \n",
              "3       High school graduate    Employed full-time   \n",
              "4     High school incomplete    Employed part-time   \n",
              "...                      ...                   ...   \n",
              "2827    High school graduate    Employed part-time   \n",
              "2828  High school incomplete    Employed part-time   \n",
              "2829  High school incomplete  Not employed for pay   \n",
              "2830    High school graduate  Not employed for pay   \n",
              "2831              Don’t know  Not employed for pay   \n",
              "\n",
              "                          Incomes  \\\n",
              "0        $20,000 to under $30,000   \n",
              "1               Less than $10,000   \n",
              "2               Less than $10,000   \n",
              "3        $40,000 to under $50,000   \n",
              "4        $10,000 to under $20,000   \n",
              "...                           ...   \n",
              "2827    $75,000 to under $100,000   \n",
              "2828     $30,000 to under $40,000   \n",
              "2829  9$100,000 to under $150,000   \n",
              "2830  9$100,000 to under $150,000   \n",
              "2831                      Refused   \n",
              "\n",
              "      How many books did you read during last 12months?  \\\n",
              "0                                                    97   \n",
              "1                                                    97   \n",
              "2                                                    97   \n",
              "3                                                    97   \n",
              "4                                                    97   \n",
              "...                                                 ...   \n",
              "2827                                                  0   \n",
              "2828                                                  0   \n",
              "2829                                                  0   \n",
              "2830                                                  0   \n",
              "2831                                                  0   \n",
              "\n",
              "     Read any printed books during last 12months?  \\\n",
              "0                                             Yes   \n",
              "1                                             Yes   \n",
              "2                                              No   \n",
              "3                                             Yes   \n",
              "4                                             Yes   \n",
              "...                                           ...   \n",
              "2827                                          NaN   \n",
              "2828                                          NaN   \n",
              "2829                                          NaN   \n",
              "2830                                          NaN   \n",
              "2831                                          NaN   \n",
              "\n",
              "     Read any audiobooks during last 12months?  \\\n",
              "0                                           No   \n",
              "1                                          Yes   \n",
              "2                                          Yes   \n",
              "3                                           No   \n",
              "4                                          Yes   \n",
              "...                                        ...   \n",
              "2827                                       NaN   \n",
              "2828                                       NaN   \n",
              "2829                                       NaN   \n",
              "2830                                       NaN   \n",
              "2831                                       NaN   \n",
              "\n",
              "     Read any e-books during last 12months?  \\\n",
              "0                                       Yes   \n",
              "1                                       Yes   \n",
              "2                                       Yes   \n",
              "3                                       Yes   \n",
              "4                                        No   \n",
              "...                                     ...   \n",
              "2827                                    NaN   \n",
              "2828                                    NaN   \n",
              "2829                                    NaN   \n",
              "2830                                    NaN   \n",
              "2831                                    NaN   \n",
              "\n",
              "                              Last book you read, you…  \\\n",
              "0                                   Purchased the book   \n",
              "1                                   Purchased the book   \n",
              "2     Borrowed the book from a friend or family member   \n",
              "3                     Borrowed the book from a library   \n",
              "4                                   Purchased the book   \n",
              "...                                                ...   \n",
              "2827                                               NaN   \n",
              "2828                                               NaN   \n",
              "2829                                               NaN   \n",
              "2830                                               NaN   \n",
              "2831                                               NaN   \n",
              "\n",
              "     Do you happen to read any daily news or newspapers?  \\\n",
              "0                                                    No    \n",
              "1                                                   Yes    \n",
              "2                                                   Yes    \n",
              "3                                                   Yes    \n",
              "4                                                   Yes    \n",
              "...                                                 ...    \n",
              "2827                                                Yes    \n",
              "2828                                                Yes    \n",
              "2829                                                 No    \n",
              "2830                                                 No    \n",
              "2831                                                 No    \n",
              "\n",
              "     Do you happen to read any magazines or journals?  \n",
              "0                                                 Yes  \n",
              "1                                                 Yes  \n",
              "2                                                 Yes  \n",
              "3                                                  No  \n",
              "4                                                  No  \n",
              "...                                               ...  \n",
              "2827                                              Yes  \n",
              "2828                                               No  \n",
              "2829                                              Yes  \n",
              "2830                                               No  \n",
              "2831                                               No  \n",
              "\n",
              "[2832 rows x 14 columns]"
            ],
            "text/html": [
              "\n",
              "  <div id=\"df-e5d1b555-0cb3-4e64-a58a-d890783f96ae\">\n",
              "    <div class=\"colab-df-container\">\n",
              "      <div>\n",
              "<style scoped>\n",
              "    .dataframe tbody tr th:only-of-type {\n",
              "        vertical-align: middle;\n",
              "    }\n",
              "\n",
              "    .dataframe tbody tr th {\n",
              "        vertical-align: top;\n",
              "    }\n",
              "\n",
              "    .dataframe thead th {\n",
              "        text-align: right;\n",
              "    }\n",
              "</style>\n",
              "<table border=\"1\" class=\"dataframe\">\n",
              "  <thead>\n",
              "    <tr style=\"text-align: right;\">\n",
              "      <th></th>\n",
              "      <th>Age</th>\n",
              "      <th>Sex</th>\n",
              "      <th>Race</th>\n",
              "      <th>Marital status?</th>\n",
              "      <th>Education</th>\n",
              "      <th>Employement</th>\n",
              "      <th>Incomes</th>\n",
              "      <th>How many books did you read during last 12months?</th>\n",
              "      <th>Read any printed books during last 12months?</th>\n",
              "      <th>Read any audiobooks during last 12months?</th>\n",
              "      <th>Read any e-books during last 12months?</th>\n",
              "      <th>Last book you read, you…</th>\n",
              "      <th>Do you happen to read any daily news or newspapers?</th>\n",
              "      <th>Do you happen to read any magazines or journals?</th>\n",
              "    </tr>\n",
              "  </thead>\n",
              "  <tbody>\n",
              "    <tr>\n",
              "      <th>0</th>\n",
              "      <td>66</td>\n",
              "      <td>Male</td>\n",
              "      <td>Refused</td>\n",
              "      <td>Divorced</td>\n",
              "      <td>College graduate</td>\n",
              "      <td>Retired</td>\n",
              "      <td>$20,000 to under $30,000</td>\n",
              "      <td>97</td>\n",
              "      <td>Yes</td>\n",
              "      <td>No</td>\n",
              "      <td>Yes</td>\n",
              "      <td>Purchased the book</td>\n",
              "      <td>No</td>\n",
              "      <td>Yes</td>\n",
              "    </tr>\n",
              "    <tr>\n",
              "      <th>1</th>\n",
              "      <td>46</td>\n",
              "      <td>Male</td>\n",
              "      <td>Native American/American Indian</td>\n",
              "      <td>Married</td>\n",
              "      <td>High school graduate</td>\n",
              "      <td>Employed full-time</td>\n",
              "      <td>Less than $10,000</td>\n",
              "      <td>97</td>\n",
              "      <td>Yes</td>\n",
              "      <td>Yes</td>\n",
              "      <td>Yes</td>\n",
              "      <td>Purchased the book</td>\n",
              "      <td>Yes</td>\n",
              "      <td>Yes</td>\n",
              "    </tr>\n",
              "    <tr>\n",
              "      <th>2</th>\n",
              "      <td>32</td>\n",
              "      <td>Male</td>\n",
              "      <td>Mixed race</td>\n",
              "      <td>Never been married</td>\n",
              "      <td>High school graduate</td>\n",
              "      <td>Employed full-time</td>\n",
              "      <td>Less than $10,000</td>\n",
              "      <td>97</td>\n",
              "      <td>No</td>\n",
              "      <td>Yes</td>\n",
              "      <td>Yes</td>\n",
              "      <td>Borrowed the book from a friend or family member</td>\n",
              "      <td>Yes</td>\n",
              "      <td>Yes</td>\n",
              "    </tr>\n",
              "    <tr>\n",
              "      <th>3</th>\n",
              "      <td>27</td>\n",
              "      <td>Male</td>\n",
              "      <td>Mixed race</td>\n",
              "      <td>Married</td>\n",
              "      <td>High school graduate</td>\n",
              "      <td>Employed full-time</td>\n",
              "      <td>$40,000 to under $50,000</td>\n",
              "      <td>97</td>\n",
              "      <td>Yes</td>\n",
              "      <td>No</td>\n",
              "      <td>Yes</td>\n",
              "      <td>Borrowed the book from a library</td>\n",
              "      <td>Yes</td>\n",
              "      <td>No</td>\n",
              "    </tr>\n",
              "    <tr>\n",
              "      <th>4</th>\n",
              "      <td>16</td>\n",
              "      <td>Female</td>\n",
              "      <td>Mixed race</td>\n",
              "      <td>Never been married</td>\n",
              "      <td>High school incomplete</td>\n",
              "      <td>Employed part-time</td>\n",
              "      <td>$10,000 to under $20,000</td>\n",
              "      <td>97</td>\n",
              "      <td>Yes</td>\n",
              "      <td>Yes</td>\n",
              "      <td>No</td>\n",
              "      <td>Purchased the book</td>\n",
              "      <td>Yes</td>\n",
              "      <td>No</td>\n",
              "    </tr>\n",
              "    <tr>\n",
              "      <th>...</th>\n",
              "      <td>...</td>\n",
              "      <td>...</td>\n",
              "      <td>...</td>\n",
              "      <td>...</td>\n",
              "      <td>...</td>\n",
              "      <td>...</td>\n",
              "      <td>...</td>\n",
              "      <td>...</td>\n",
              "      <td>...</td>\n",
              "      <td>...</td>\n",
              "      <td>...</td>\n",
              "      <td>...</td>\n",
              "      <td>...</td>\n",
              "      <td>...</td>\n",
              "    </tr>\n",
              "    <tr>\n",
              "      <th>2827</th>\n",
              "      <td>18</td>\n",
              "      <td>Male</td>\n",
              "      <td>White</td>\n",
              "      <td>Never been married</td>\n",
              "      <td>High school graduate</td>\n",
              "      <td>Employed part-time</td>\n",
              "      <td>$75,000 to under $100,000</td>\n",
              "      <td>0</td>\n",
              "      <td>NaN</td>\n",
              "      <td>NaN</td>\n",
              "      <td>NaN</td>\n",
              "      <td>NaN</td>\n",
              "      <td>Yes</td>\n",
              "      <td>Yes</td>\n",
              "    </tr>\n",
              "    <tr>\n",
              "      <th>2828</th>\n",
              "      <td>17</td>\n",
              "      <td>Male</td>\n",
              "      <td>White</td>\n",
              "      <td>Never been married</td>\n",
              "      <td>High school incomplete</td>\n",
              "      <td>Employed part-time</td>\n",
              "      <td>$30,000 to under $40,000</td>\n",
              "      <td>0</td>\n",
              "      <td>NaN</td>\n",
              "      <td>NaN</td>\n",
              "      <td>NaN</td>\n",
              "      <td>NaN</td>\n",
              "      <td>Yes</td>\n",
              "      <td>No</td>\n",
              "    </tr>\n",
              "    <tr>\n",
              "      <th>2829</th>\n",
              "      <td>17</td>\n",
              "      <td>Female</td>\n",
              "      <td>White</td>\n",
              "      <td>Never been married</td>\n",
              "      <td>High school incomplete</td>\n",
              "      <td>Not employed for pay</td>\n",
              "      <td>9$100,000 to under $150,000</td>\n",
              "      <td>0</td>\n",
              "      <td>NaN</td>\n",
              "      <td>NaN</td>\n",
              "      <td>NaN</td>\n",
              "      <td>NaN</td>\n",
              "      <td>No</td>\n",
              "      <td>Yes</td>\n",
              "    </tr>\n",
              "    <tr>\n",
              "      <th>2830</th>\n",
              "      <td>16</td>\n",
              "      <td>Male</td>\n",
              "      <td>White</td>\n",
              "      <td>Never been married</td>\n",
              "      <td>High school graduate</td>\n",
              "      <td>Not employed for pay</td>\n",
              "      <td>9$100,000 to under $150,000</td>\n",
              "      <td>0</td>\n",
              "      <td>NaN</td>\n",
              "      <td>NaN</td>\n",
              "      <td>NaN</td>\n",
              "      <td>NaN</td>\n",
              "      <td>No</td>\n",
              "      <td>No</td>\n",
              "    </tr>\n",
              "    <tr>\n",
              "      <th>2831</th>\n",
              "      <td>16</td>\n",
              "      <td>Male</td>\n",
              "      <td>White</td>\n",
              "      <td>Never been married</td>\n",
              "      <td>Don’t know</td>\n",
              "      <td>Not employed for pay</td>\n",
              "      <td>Refused</td>\n",
              "      <td>0</td>\n",
              "      <td>NaN</td>\n",
              "      <td>NaN</td>\n",
              "      <td>NaN</td>\n",
              "      <td>NaN</td>\n",
              "      <td>No</td>\n",
              "      <td>No</td>\n",
              "    </tr>\n",
              "  </tbody>\n",
              "</table>\n",
              "<p>2832 rows × 14 columns</p>\n",
              "</div>\n",
              "      <button class=\"colab-df-convert\" onclick=\"convertToInteractive('df-e5d1b555-0cb3-4e64-a58a-d890783f96ae')\"\n",
              "              title=\"Convert this dataframe to an interactive table.\"\n",
              "              style=\"display:none;\">\n",
              "        \n",
              "  <svg xmlns=\"http://www.w3.org/2000/svg\" height=\"24px\"viewBox=\"0 0 24 24\"\n",
              "       width=\"24px\">\n",
              "    <path d=\"M0 0h24v24H0V0z\" fill=\"none\"/>\n",
              "    <path d=\"M18.56 5.44l.94 2.06.94-2.06 2.06-.94-2.06-.94-.94-2.06-.94 2.06-2.06.94zm-11 1L8.5 8.5l.94-2.06 2.06-.94-2.06-.94L8.5 2.5l-.94 2.06-2.06.94zm10 10l.94 2.06.94-2.06 2.06-.94-2.06-.94-.94-2.06-.94 2.06-2.06.94z\"/><path d=\"M17.41 7.96l-1.37-1.37c-.4-.4-.92-.59-1.43-.59-.52 0-1.04.2-1.43.59L10.3 9.45l-7.72 7.72c-.78.78-.78 2.05 0 2.83L4 21.41c.39.39.9.59 1.41.59.51 0 1.02-.2 1.41-.59l7.78-7.78 2.81-2.81c.8-.78.8-2.07 0-2.86zM5.41 20L4 18.59l7.72-7.72 1.47 1.35L5.41 20z\"/>\n",
              "  </svg>\n",
              "      </button>\n",
              "      \n",
              "  <style>\n",
              "    .colab-df-container {\n",
              "      display:flex;\n",
              "      flex-wrap:wrap;\n",
              "      gap: 12px;\n",
              "    }\n",
              "\n",
              "    .colab-df-convert {\n",
              "      background-color: #E8F0FE;\n",
              "      border: none;\n",
              "      border-radius: 50%;\n",
              "      cursor: pointer;\n",
              "      display: none;\n",
              "      fill: #1967D2;\n",
              "      height: 32px;\n",
              "      padding: 0 0 0 0;\n",
              "      width: 32px;\n",
              "    }\n",
              "\n",
              "    .colab-df-convert:hover {\n",
              "      background-color: #E2EBFA;\n",
              "      box-shadow: 0px 1px 2px rgba(60, 64, 67, 0.3), 0px 1px 3px 1px rgba(60, 64, 67, 0.15);\n",
              "      fill: #174EA6;\n",
              "    }\n",
              "\n",
              "    [theme=dark] .colab-df-convert {\n",
              "      background-color: #3B4455;\n",
              "      fill: #D2E3FC;\n",
              "    }\n",
              "\n",
              "    [theme=dark] .colab-df-convert:hover {\n",
              "      background-color: #434B5C;\n",
              "      box-shadow: 0px 1px 3px 1px rgba(0, 0, 0, 0.15);\n",
              "      filter: drop-shadow(0px 1px 2px rgba(0, 0, 0, 0.3));\n",
              "      fill: #FFFFFF;\n",
              "    }\n",
              "  </style>\n",
              "\n",
              "      <script>\n",
              "        const buttonEl =\n",
              "          document.querySelector('#df-e5d1b555-0cb3-4e64-a58a-d890783f96ae button.colab-df-convert');\n",
              "        buttonEl.style.display =\n",
              "          google.colab.kernel.accessAllowed ? 'block' : 'none';\n",
              "\n",
              "        async function convertToInteractive(key) {\n",
              "          const element = document.querySelector('#df-e5d1b555-0cb3-4e64-a58a-d890783f96ae');\n",
              "          const dataTable =\n",
              "            await google.colab.kernel.invokeFunction('convertToInteractive',\n",
              "                                                     [key], {});\n",
              "          if (!dataTable) return;\n",
              "\n",
              "          const docLinkHtml = 'Like what you see? Visit the ' +\n",
              "            '<a target=\"_blank\" href=https://colab.research.google.com/notebooks/data_table.ipynb>data table notebook</a>'\n",
              "            + ' to learn more about interactive tables.';\n",
              "          element.innerHTML = '';\n",
              "          dataTable['output_type'] = 'display_data';\n",
              "          await google.colab.output.renderOutput(dataTable, element);\n",
              "          const docLink = document.createElement('div');\n",
              "          docLink.innerHTML = docLinkHtml;\n",
              "          element.appendChild(docLink);\n",
              "        }\n",
              "      </script>\n",
              "    </div>\n",
              "  </div>\n",
              "  "
            ]
          },
          "metadata": {},
          "execution_count": 3
        }
      ]
    },
    {
      "cell_type": "code",
      "source": [
        "from pathlib import Path\n",
        "import os\n",
        "# File Size\n",
        "df_path =Path('/content/gdrive/MyDrive/CS410_FinalProject')/'reading_habit.csv'\n",
        "print(f'File size: {os.path.getsize(df_path) / 1024:0.2f} KiB')"
      ],
      "metadata": {
        "colab": {
          "base_uri": "https://localhost:8080/"
        },
        "id": "sRotpxPvJNIG",
        "outputId": "dfe5375b-2b39-4a7e-af3a-abc214d125ba"
      },
      "execution_count": null,
      "outputs": [
        {
          "output_type": "stream",
          "name": "stdout",
          "text": [
            "File size: 401.75 KiB\n"
          ]
        }
      ]
    },
    {
      "cell_type": "code",
      "source": [
        "from pathlib import Path\n",
        "\n",
        "# Finding the Format\n",
        "def head(filepath, n=7):\n",
        "    with filepath.open() as f:\n",
        "        for _ in range(n):\n",
        "            print(f.readline(), end='')\n",
        "head(df_path)\n"
      ],
      "metadata": {
        "colab": {
          "base_uri": "https://localhost:8080/"
        },
        "id": "eekQUHqZJEMS",
        "outputId": "9db03704-9275-486b-f74e-bdb1479b68dc"
      },
      "execution_count": null,
      "outputs": [
        {
          "output_type": "stream",
          "name": "stdout",
          "text": [
            "Age,Sex,Race,Marital status?,Education,Employement,Incomes,How many books did you read during last 12months?,Read any printed books during last 12months?,Read any audiobooks during last 12months?,Read any e-books during last 12months?,\"Last book you read, you…\",Do you happen to read any daily news or newspapers?,Do you happen to read any magazines or journals?\n",
            "66,Male,Refused,Divorced,College graduate,Retired,\"$20,000 to under $30,000\",97,Yes,No,Yes,Purchased the book,No,Yes\n",
            "46,Male,Native American/American Indian,Married,High school graduate,Employed full-time,\"Less than $10,000\",97,Yes,Yes,Yes,Purchased the book,Yes,Yes\n",
            "32,Male,Mixed race,Never been married,High school graduate,Employed full-time,\"Less than $10,000\",97,No,Yes,Yes,Borrowed the book from a friend or family member,Yes,Yes\n",
            "27,Male,Mixed race,Married,High school graduate,Employed full-time,\"$40,000 to under $50,000\",97,Yes,No,Yes,Borrowed the book from a library,Yes,No\n",
            "16,Female,Mixed race,Never been married,High school incomplete,Employed part-time,\"$10,000 to under $20,000\",97,Yes,Yes,No,Purchased the book,Yes,No\n",
            "55,Female,Asian or Pacific Islander,Divorced,\"Some college, no 4-year degree\",Have own business/self-employed,\"$40,000 to under $50,000\",97,Yes,Yes,Yes,Purchased the book,No,No\n"
          ]
        }
      ]
    },
    {
      "cell_type": "markdown",
      "source": [
        "It is Delimited format since there is a comma that seperate the data values."
      ],
      "metadata": {
        "id": "uSyPMV3bJUaC"
      }
    },
    {
      "cell_type": "code",
      "source": [
        "# File Encoding\n",
        "import chardet\n",
        "encoding = chardet.detect(df_path.read_bytes())['encoding']\n",
        "print(f'File encoding: {encoding}')"
      ],
      "metadata": {
        "colab": {
          "base_uri": "https://localhost:8080/"
        },
        "id": "Hnn-3XmWJXvH",
        "outputId": "fa36e1f2-1841-445d-ce4e-d1ef77e80840"
      },
      "execution_count": null,
      "outputs": [
        {
          "output_type": "stream",
          "name": "stdout",
          "text": [
            "File encoding: utf-8\n"
          ]
        }
      ]
    },
    {
      "cell_type": "code",
      "source": [
        "# Granularity\n",
        "print(\"Reading Habit shape:\", df.shape) "
      ],
      "metadata": {
        "colab": {
          "base_uri": "https://localhost:8080/"
        },
        "id": "VPV8qp1MJdhO",
        "outputId": "7862855c-a72d-4bb1-8887-699721c88917"
      },
      "execution_count": null,
      "outputs": [
        {
          "output_type": "stream",
          "name": "stdout",
          "text": [
            "Reading Habit shape: (2832, 14)\n"
          ]
        }
      ]
    },
    {
      "cell_type": "code",
      "source": [
        "# Quality Check\n",
        "df.isnull().sum()"
      ],
      "metadata": {
        "colab": {
          "base_uri": "https://localhost:8080/"
        },
        "id": "XkT8daVaJrFh",
        "outputId": "47246397-6bcf-4204-db12-eb0536eb126a"
      },
      "execution_count": null,
      "outputs": [
        {
          "output_type": "execute_result",
          "data": {
            "text/plain": [
              "Age                                                      0\n",
              "Sex                                                      0\n",
              "Race                                                     0\n",
              "Marital status?                                          0\n",
              "Education                                                0\n",
              "Employement                                              0\n",
              "Incomes                                                  0\n",
              "How many books did you read during last 12months?        0\n",
              "Read any printed books during last 12months?           390\n",
              "Read any audiobooks during last 12months?              390\n",
              "Read any e-books during last 12months?                 390\n",
              "Last book you read, you…                               390\n",
              "Do you happen to read any daily news or newspapers?      0\n",
              "Do you happen to read any magazines or journals?         0\n",
              "dtype: int64"
            ]
          },
          "metadata": {},
          "execution_count": 8
        }
      ]
    },
    {
      "cell_type": "code",
      "source": [
        "# Scope of the education\n",
        "df['Education'].value_counts().tail(10)  "
      ],
      "metadata": {
        "colab": {
          "base_uri": "https://localhost:8080/"
        },
        "id": "fIFOXdHGKB_y",
        "outputId": "acf05fbe-95f1-4a28-a7a5-7cc11691578e"
      },
      "execution_count": null,
      "outputs": [
        {
          "output_type": "execute_result",
          "data": {
            "text/plain": [
              "High school graduate                                        688\n",
              "Some college, no 4-year degree                              651\n",
              "College graduate                                            597\n",
              "Post-graduate training/professional school after college    501\n",
              "High school incomplete                                      263\n",
              "Technical, trade or vocational school AFTER high school      66\n",
              "None                                                         58\n",
              "Don’t know                                                    8\n",
              "Name: Education, dtype: int64"
            ]
          },
          "metadata": {},
          "execution_count": 9
        }
      ]
    },
    {
      "cell_type": "code",
      "source": [
        "# Scope of the incomes\n",
        "df['Incomes'].value_counts().tail(10)"
      ],
      "metadata": {
        "colab": {
          "base_uri": "https://localhost:8080/"
        },
        "id": "NoNCsUqLKC55",
        "outputId": "56450480-9433-48ac-a83b-37f38277753a"
      },
      "execution_count": null,
      "outputs": [
        {
          "output_type": "execute_result",
          "data": {
            "text/plain": [
              "$100,000 to under $150,000     530\n",
              "$50,000 to under $75,000       394\n",
              "$75,000 to under $100,000      316\n",
              "Refused                        291\n",
              "$30,000 to under $40,000       265\n",
              "$20,000 to under $30,000       238\n",
              "$10,000 to under $20,000       216\n",
              "9$100,000 to under $150,000    212\n",
              "$40,000 to under $50,000       207\n",
              "Less than $10,000              163\n",
              "Name: Incomes, dtype: int64"
            ]
          },
          "metadata": {},
          "execution_count": 10
        }
      ]
    },
    {
      "cell_type": "code",
      "source": [
        "# Scope of the Employement\n",
        "df['Employement'].value_counts().tail(10)"
      ],
      "metadata": {
        "colab": {
          "base_uri": "https://localhost:8080/"
        },
        "id": "qUsxoieSKGHT",
        "outputId": "614cc20a-8bef-48b8-b405-14e1520ae16c"
      },
      "execution_count": null,
      "outputs": [
        {
          "output_type": "execute_result",
          "data": {
            "text/plain": [
              "Employed full-time                 1238\n",
              "Retired                             605\n",
              "Not employed for pay                474\n",
              "Employed part-time                  355\n",
              "Disabled                             70\n",
              "Have own business/self-employed      53\n",
              "Student                              22\n",
              "Other                                15\n",
              "Name: Employement, dtype: int64"
            ]
          },
          "metadata": {},
          "execution_count": 11
        }
      ]
    },
    {
      "cell_type": "code",
      "source": [
        "# Quality of Relationships between Age and Education\n",
        "display(pd.crosstab(df['Age'], df['Education'])[:10])"
      ],
      "metadata": {
        "colab": {
          "base_uri": "https://localhost:8080/",
          "height": 473
        },
        "id": "9WGbFZtkKIkm",
        "outputId": "a180ec27-c9ea-49d0-f91b-091f591855d1"
      },
      "execution_count": null,
      "outputs": [
        {
          "output_type": "display_data",
          "data": {
            "text/plain": [
              "Education  College graduate  Don’t know  High school graduate  \\\n",
              "Age                                                             \n",
              "16                        0           1                     3   \n",
              "17                        0           0                     7   \n",
              "18                        0           0                    35   \n",
              "19                        0           0                    19   \n",
              "20                        1           0                     7   \n",
              "21                        2           0                    10   \n",
              "22                        7           0                    10   \n",
              "23                        8           0                    12   \n",
              "24                       12           0                     7   \n",
              "25                       15           0                    11   \n",
              "\n",
              "Education  High school incomplete  None  \\\n",
              "Age                                       \n",
              "16                             59     5   \n",
              "17                             61     0   \n",
              "18                             15     1   \n",
              "19                              1     0   \n",
              "20                              1     1   \n",
              "21                              3     0   \n",
              "22                              3     1   \n",
              "23                              1     0   \n",
              "24                              0     0   \n",
              "25                              0     1   \n",
              "\n",
              "Education  Post-graduate training/professional school after college  \\\n",
              "Age                                                                   \n",
              "16                                                         0          \n",
              "17                                                         0          \n",
              "18                                                         0          \n",
              "19                                                         0          \n",
              "20                                                         0          \n",
              "21                                                         0          \n",
              "22                                                         4          \n",
              "23                                                         3          \n",
              "24                                                         5          \n",
              "25                                                         3          \n",
              "\n",
              "Education  Some college, no 4-year degree  \\\n",
              "Age                                         \n",
              "16                                      0   \n",
              "17                                      0   \n",
              "18                                      8   \n",
              "19                                     14   \n",
              "20                                     24   \n",
              "21                                     23   \n",
              "22                                     19   \n",
              "23                                     17   \n",
              "24                                      8   \n",
              "25                                      8   \n",
              "\n",
              "Education  Technical, trade or vocational school AFTER high school  \n",
              "Age                                                                 \n",
              "16                                                         0        \n",
              "17                                                         0        \n",
              "18                                                         0        \n",
              "19                                                         0        \n",
              "20                                                         0        \n",
              "21                                                         1        \n",
              "22                                                         1        \n",
              "23                                                         0        \n",
              "24                                                         2        \n",
              "25                                                         0        "
            ],
            "text/html": [
              "\n",
              "  <div id=\"df-36905e1c-923c-4e11-8575-70faaedd85c5\">\n",
              "    <div class=\"colab-df-container\">\n",
              "      <div>\n",
              "<style scoped>\n",
              "    .dataframe tbody tr th:only-of-type {\n",
              "        vertical-align: middle;\n",
              "    }\n",
              "\n",
              "    .dataframe tbody tr th {\n",
              "        vertical-align: top;\n",
              "    }\n",
              "\n",
              "    .dataframe thead th {\n",
              "        text-align: right;\n",
              "    }\n",
              "</style>\n",
              "<table border=\"1\" class=\"dataframe\">\n",
              "  <thead>\n",
              "    <tr style=\"text-align: right;\">\n",
              "      <th>Education</th>\n",
              "      <th>College graduate</th>\n",
              "      <th>Don’t know</th>\n",
              "      <th>High school graduate</th>\n",
              "      <th>High school incomplete</th>\n",
              "      <th>None</th>\n",
              "      <th>Post-graduate training/professional school after college</th>\n",
              "      <th>Some college, no 4-year degree</th>\n",
              "      <th>Technical, trade or vocational school AFTER high school</th>\n",
              "    </tr>\n",
              "    <tr>\n",
              "      <th>Age</th>\n",
              "      <th></th>\n",
              "      <th></th>\n",
              "      <th></th>\n",
              "      <th></th>\n",
              "      <th></th>\n",
              "      <th></th>\n",
              "      <th></th>\n",
              "      <th></th>\n",
              "    </tr>\n",
              "  </thead>\n",
              "  <tbody>\n",
              "    <tr>\n",
              "      <th>16</th>\n",
              "      <td>0</td>\n",
              "      <td>1</td>\n",
              "      <td>3</td>\n",
              "      <td>59</td>\n",
              "      <td>5</td>\n",
              "      <td>0</td>\n",
              "      <td>0</td>\n",
              "      <td>0</td>\n",
              "    </tr>\n",
              "    <tr>\n",
              "      <th>17</th>\n",
              "      <td>0</td>\n",
              "      <td>0</td>\n",
              "      <td>7</td>\n",
              "      <td>61</td>\n",
              "      <td>0</td>\n",
              "      <td>0</td>\n",
              "      <td>0</td>\n",
              "      <td>0</td>\n",
              "    </tr>\n",
              "    <tr>\n",
              "      <th>18</th>\n",
              "      <td>0</td>\n",
              "      <td>0</td>\n",
              "      <td>35</td>\n",
              "      <td>15</td>\n",
              "      <td>1</td>\n",
              "      <td>0</td>\n",
              "      <td>8</td>\n",
              "      <td>0</td>\n",
              "    </tr>\n",
              "    <tr>\n",
              "      <th>19</th>\n",
              "      <td>0</td>\n",
              "      <td>0</td>\n",
              "      <td>19</td>\n",
              "      <td>1</td>\n",
              "      <td>0</td>\n",
              "      <td>0</td>\n",
              "      <td>14</td>\n",
              "      <td>0</td>\n",
              "    </tr>\n",
              "    <tr>\n",
              "      <th>20</th>\n",
              "      <td>1</td>\n",
              "      <td>0</td>\n",
              "      <td>7</td>\n",
              "      <td>1</td>\n",
              "      <td>1</td>\n",
              "      <td>0</td>\n",
              "      <td>24</td>\n",
              "      <td>0</td>\n",
              "    </tr>\n",
              "    <tr>\n",
              "      <th>21</th>\n",
              "      <td>2</td>\n",
              "      <td>0</td>\n",
              "      <td>10</td>\n",
              "      <td>3</td>\n",
              "      <td>0</td>\n",
              "      <td>0</td>\n",
              "      <td>23</td>\n",
              "      <td>1</td>\n",
              "    </tr>\n",
              "    <tr>\n",
              "      <th>22</th>\n",
              "      <td>7</td>\n",
              "      <td>0</td>\n",
              "      <td>10</td>\n",
              "      <td>3</td>\n",
              "      <td>1</td>\n",
              "      <td>4</td>\n",
              "      <td>19</td>\n",
              "      <td>1</td>\n",
              "    </tr>\n",
              "    <tr>\n",
              "      <th>23</th>\n",
              "      <td>8</td>\n",
              "      <td>0</td>\n",
              "      <td>12</td>\n",
              "      <td>1</td>\n",
              "      <td>0</td>\n",
              "      <td>3</td>\n",
              "      <td>17</td>\n",
              "      <td>0</td>\n",
              "    </tr>\n",
              "    <tr>\n",
              "      <th>24</th>\n",
              "      <td>12</td>\n",
              "      <td>0</td>\n",
              "      <td>7</td>\n",
              "      <td>0</td>\n",
              "      <td>0</td>\n",
              "      <td>5</td>\n",
              "      <td>8</td>\n",
              "      <td>2</td>\n",
              "    </tr>\n",
              "    <tr>\n",
              "      <th>25</th>\n",
              "      <td>15</td>\n",
              "      <td>0</td>\n",
              "      <td>11</td>\n",
              "      <td>0</td>\n",
              "      <td>1</td>\n",
              "      <td>3</td>\n",
              "      <td>8</td>\n",
              "      <td>0</td>\n",
              "    </tr>\n",
              "  </tbody>\n",
              "</table>\n",
              "</div>\n",
              "      <button class=\"colab-df-convert\" onclick=\"convertToInteractive('df-36905e1c-923c-4e11-8575-70faaedd85c5')\"\n",
              "              title=\"Convert this dataframe to an interactive table.\"\n",
              "              style=\"display:none;\">\n",
              "        \n",
              "  <svg xmlns=\"http://www.w3.org/2000/svg\" height=\"24px\"viewBox=\"0 0 24 24\"\n",
              "       width=\"24px\">\n",
              "    <path d=\"M0 0h24v24H0V0z\" fill=\"none\"/>\n",
              "    <path d=\"M18.56 5.44l.94 2.06.94-2.06 2.06-.94-2.06-.94-.94-2.06-.94 2.06-2.06.94zm-11 1L8.5 8.5l.94-2.06 2.06-.94-2.06-.94L8.5 2.5l-.94 2.06-2.06.94zm10 10l.94 2.06.94-2.06 2.06-.94-2.06-.94-.94-2.06-.94 2.06-2.06.94z\"/><path d=\"M17.41 7.96l-1.37-1.37c-.4-.4-.92-.59-1.43-.59-.52 0-1.04.2-1.43.59L10.3 9.45l-7.72 7.72c-.78.78-.78 2.05 0 2.83L4 21.41c.39.39.9.59 1.41.59.51 0 1.02-.2 1.41-.59l7.78-7.78 2.81-2.81c.8-.78.8-2.07 0-2.86zM5.41 20L4 18.59l7.72-7.72 1.47 1.35L5.41 20z\"/>\n",
              "  </svg>\n",
              "      </button>\n",
              "      \n",
              "  <style>\n",
              "    .colab-df-container {\n",
              "      display:flex;\n",
              "      flex-wrap:wrap;\n",
              "      gap: 12px;\n",
              "    }\n",
              "\n",
              "    .colab-df-convert {\n",
              "      background-color: #E8F0FE;\n",
              "      border: none;\n",
              "      border-radius: 50%;\n",
              "      cursor: pointer;\n",
              "      display: none;\n",
              "      fill: #1967D2;\n",
              "      height: 32px;\n",
              "      padding: 0 0 0 0;\n",
              "      width: 32px;\n",
              "    }\n",
              "\n",
              "    .colab-df-convert:hover {\n",
              "      background-color: #E2EBFA;\n",
              "      box-shadow: 0px 1px 2px rgba(60, 64, 67, 0.3), 0px 1px 3px 1px rgba(60, 64, 67, 0.15);\n",
              "      fill: #174EA6;\n",
              "    }\n",
              "\n",
              "    [theme=dark] .colab-df-convert {\n",
              "      background-color: #3B4455;\n",
              "      fill: #D2E3FC;\n",
              "    }\n",
              "\n",
              "    [theme=dark] .colab-df-convert:hover {\n",
              "      background-color: #434B5C;\n",
              "      box-shadow: 0px 1px 3px 1px rgba(0, 0, 0, 0.15);\n",
              "      filter: drop-shadow(0px 1px 2px rgba(0, 0, 0, 0.3));\n",
              "      fill: #FFFFFF;\n",
              "    }\n",
              "  </style>\n",
              "\n",
              "      <script>\n",
              "        const buttonEl =\n",
              "          document.querySelector('#df-36905e1c-923c-4e11-8575-70faaedd85c5 button.colab-df-convert');\n",
              "        buttonEl.style.display =\n",
              "          google.colab.kernel.accessAllowed ? 'block' : 'none';\n",
              "\n",
              "        async function convertToInteractive(key) {\n",
              "          const element = document.querySelector('#df-36905e1c-923c-4e11-8575-70faaedd85c5');\n",
              "          const dataTable =\n",
              "            await google.colab.kernel.invokeFunction('convertToInteractive',\n",
              "                                                     [key], {});\n",
              "          if (!dataTable) return;\n",
              "\n",
              "          const docLinkHtml = 'Like what you see? Visit the ' +\n",
              "            '<a target=\"_blank\" href=https://colab.research.google.com/notebooks/data_table.ipynb>data table notebook</a>'\n",
              "            + ' to learn more about interactive tables.';\n",
              "          element.innerHTML = '';\n",
              "          dataTable['output_type'] = 'display_data';\n",
              "          await google.colab.output.renderOutput(dataTable, element);\n",
              "          const docLink = document.createElement('div');\n",
              "          docLink.innerHTML = docLinkHtml;\n",
              "          element.appendChild(docLink);\n",
              "        }\n",
              "      </script>\n",
              "    </div>\n",
              "  </div>\n",
              "  "
            ]
          },
          "metadata": {}
        }
      ]
    },
    {
      "cell_type": "code",
      "source": [
        "# Rename long named feature\n",
        "df.columns = df.columns.str.replace('How many books did you read during last 12months?', 'N_of_Books')"
      ],
      "metadata": {
        "colab": {
          "base_uri": "https://localhost:8080/"
        },
        "id": "HVM2Hx9IpXZq",
        "outputId": "eb670e0a-9249-4407-9a46-55a5159c07f0"
      },
      "execution_count": null,
      "outputs": [
        {
          "output_type": "stream",
          "name": "stderr",
          "text": [
            "<ipython-input-13-2b786763cf3e>:2: FutureWarning: The default value of regex will change from True to False in a future version.\n",
            "  df.columns = df.columns.str.replace('How many books did you read during last 12months?', 'N_of_Books')\n"
          ]
        }
      ]
    },
    {
      "cell_type": "code",
      "source": [
        "# Drop features that we are not interested in to answer our questions\n",
        "\n",
        "new_df = df.drop(columns = ['Read any printed books during last 12months?', 'Read any audiobooks during last 12months?', 'Read any e-books during last 12months?',\n",
        "                            'Last book you read, you…', 'Do you happen to read any daily news or newspapers?', 'Do you happen to read any magazines or journals?' ], axis=1)\n",
        "\n",
        "new_df.info()"
      ],
      "metadata": {
        "colab": {
          "base_uri": "https://localhost:8080/"
        },
        "id": "6uH36S8LpYat",
        "outputId": "c72762c0-6f64-4c5c-e1a1-4c22cddb27cd"
      },
      "execution_count": null,
      "outputs": [
        {
          "output_type": "stream",
          "name": "stdout",
          "text": [
            "<class 'pandas.core.frame.DataFrame'>\n",
            "RangeIndex: 2832 entries, 0 to 2831\n",
            "Data columns (total 8 columns):\n",
            " #   Column           Non-Null Count  Dtype \n",
            "---  ------           --------------  ----- \n",
            " 0   Age              2832 non-null   int64 \n",
            " 1   Sex              2832 non-null   object\n",
            " 2   Race             2832 non-null   object\n",
            " 3   Marital status?  2832 non-null   object\n",
            " 4   Education        2832 non-null   object\n",
            " 5   Employement      2832 non-null   object\n",
            " 6   Incomes          2832 non-null   object\n",
            " 7   N_of_Books?      2832 non-null   int64 \n",
            "dtypes: int64(2), object(6)\n",
            "memory usage: 177.1+ KB\n"
          ]
        }
      ]
    },
    {
      "cell_type": "code",
      "source": [
        "new_df"
      ],
      "metadata": {
        "colab": {
          "base_uri": "https://localhost:8080/",
          "height": 424
        },
        "id": "doUgxhc9qSgF",
        "outputId": "642c70c0-1ce6-4658-af30-1593141c239d"
      },
      "execution_count": null,
      "outputs": [
        {
          "output_type": "execute_result",
          "data": {
            "text/plain": [
              "      Age     Sex                             Race     Marital status?  \\\n",
              "0      66    Male                          Refused            Divorced   \n",
              "1      46    Male  Native American/American Indian             Married   \n",
              "2      32    Male                       Mixed race  Never been married   \n",
              "3      27    Male                       Mixed race             Married   \n",
              "4      16  Female                       Mixed race  Never been married   \n",
              "...   ...     ...                              ...                 ...   \n",
              "2827   18    Male                            White  Never been married   \n",
              "2828   17    Male                            White  Never been married   \n",
              "2829   17  Female                            White  Never been married   \n",
              "2830   16    Male                            White  Never been married   \n",
              "2831   16    Male                            White  Never been married   \n",
              "\n",
              "                   Education           Employement  \\\n",
              "0           College graduate               Retired   \n",
              "1       High school graduate    Employed full-time   \n",
              "2       High school graduate    Employed full-time   \n",
              "3       High school graduate    Employed full-time   \n",
              "4     High school incomplete    Employed part-time   \n",
              "...                      ...                   ...   \n",
              "2827    High school graduate    Employed part-time   \n",
              "2828  High school incomplete    Employed part-time   \n",
              "2829  High school incomplete  Not employed for pay   \n",
              "2830    High school graduate  Not employed for pay   \n",
              "2831              Don’t know  Not employed for pay   \n",
              "\n",
              "                          Incomes  N_of_Books?  \n",
              "0        $20,000 to under $30,000           97  \n",
              "1               Less than $10,000           97  \n",
              "2               Less than $10,000           97  \n",
              "3        $40,000 to under $50,000           97  \n",
              "4        $10,000 to under $20,000           97  \n",
              "...                           ...          ...  \n",
              "2827    $75,000 to under $100,000            0  \n",
              "2828     $30,000 to under $40,000            0  \n",
              "2829  9$100,000 to under $150,000            0  \n",
              "2830  9$100,000 to under $150,000            0  \n",
              "2831                      Refused            0  \n",
              "\n",
              "[2832 rows x 8 columns]"
            ],
            "text/html": [
              "\n",
              "  <div id=\"df-2d198b93-f9b4-4c73-85ba-915eba385dae\">\n",
              "    <div class=\"colab-df-container\">\n",
              "      <div>\n",
              "<style scoped>\n",
              "    .dataframe tbody tr th:only-of-type {\n",
              "        vertical-align: middle;\n",
              "    }\n",
              "\n",
              "    .dataframe tbody tr th {\n",
              "        vertical-align: top;\n",
              "    }\n",
              "\n",
              "    .dataframe thead th {\n",
              "        text-align: right;\n",
              "    }\n",
              "</style>\n",
              "<table border=\"1\" class=\"dataframe\">\n",
              "  <thead>\n",
              "    <tr style=\"text-align: right;\">\n",
              "      <th></th>\n",
              "      <th>Age</th>\n",
              "      <th>Sex</th>\n",
              "      <th>Race</th>\n",
              "      <th>Marital status?</th>\n",
              "      <th>Education</th>\n",
              "      <th>Employement</th>\n",
              "      <th>Incomes</th>\n",
              "      <th>N_of_Books?</th>\n",
              "    </tr>\n",
              "  </thead>\n",
              "  <tbody>\n",
              "    <tr>\n",
              "      <th>0</th>\n",
              "      <td>66</td>\n",
              "      <td>Male</td>\n",
              "      <td>Refused</td>\n",
              "      <td>Divorced</td>\n",
              "      <td>College graduate</td>\n",
              "      <td>Retired</td>\n",
              "      <td>$20,000 to under $30,000</td>\n",
              "      <td>97</td>\n",
              "    </tr>\n",
              "    <tr>\n",
              "      <th>1</th>\n",
              "      <td>46</td>\n",
              "      <td>Male</td>\n",
              "      <td>Native American/American Indian</td>\n",
              "      <td>Married</td>\n",
              "      <td>High school graduate</td>\n",
              "      <td>Employed full-time</td>\n",
              "      <td>Less than $10,000</td>\n",
              "      <td>97</td>\n",
              "    </tr>\n",
              "    <tr>\n",
              "      <th>2</th>\n",
              "      <td>32</td>\n",
              "      <td>Male</td>\n",
              "      <td>Mixed race</td>\n",
              "      <td>Never been married</td>\n",
              "      <td>High school graduate</td>\n",
              "      <td>Employed full-time</td>\n",
              "      <td>Less than $10,000</td>\n",
              "      <td>97</td>\n",
              "    </tr>\n",
              "    <tr>\n",
              "      <th>3</th>\n",
              "      <td>27</td>\n",
              "      <td>Male</td>\n",
              "      <td>Mixed race</td>\n",
              "      <td>Married</td>\n",
              "      <td>High school graduate</td>\n",
              "      <td>Employed full-time</td>\n",
              "      <td>$40,000 to under $50,000</td>\n",
              "      <td>97</td>\n",
              "    </tr>\n",
              "    <tr>\n",
              "      <th>4</th>\n",
              "      <td>16</td>\n",
              "      <td>Female</td>\n",
              "      <td>Mixed race</td>\n",
              "      <td>Never been married</td>\n",
              "      <td>High school incomplete</td>\n",
              "      <td>Employed part-time</td>\n",
              "      <td>$10,000 to under $20,000</td>\n",
              "      <td>97</td>\n",
              "    </tr>\n",
              "    <tr>\n",
              "      <th>...</th>\n",
              "      <td>...</td>\n",
              "      <td>...</td>\n",
              "      <td>...</td>\n",
              "      <td>...</td>\n",
              "      <td>...</td>\n",
              "      <td>...</td>\n",
              "      <td>...</td>\n",
              "      <td>...</td>\n",
              "    </tr>\n",
              "    <tr>\n",
              "      <th>2827</th>\n",
              "      <td>18</td>\n",
              "      <td>Male</td>\n",
              "      <td>White</td>\n",
              "      <td>Never been married</td>\n",
              "      <td>High school graduate</td>\n",
              "      <td>Employed part-time</td>\n",
              "      <td>$75,000 to under $100,000</td>\n",
              "      <td>0</td>\n",
              "    </tr>\n",
              "    <tr>\n",
              "      <th>2828</th>\n",
              "      <td>17</td>\n",
              "      <td>Male</td>\n",
              "      <td>White</td>\n",
              "      <td>Never been married</td>\n",
              "      <td>High school incomplete</td>\n",
              "      <td>Employed part-time</td>\n",
              "      <td>$30,000 to under $40,000</td>\n",
              "      <td>0</td>\n",
              "    </tr>\n",
              "    <tr>\n",
              "      <th>2829</th>\n",
              "      <td>17</td>\n",
              "      <td>Female</td>\n",
              "      <td>White</td>\n",
              "      <td>Never been married</td>\n",
              "      <td>High school incomplete</td>\n",
              "      <td>Not employed for pay</td>\n",
              "      <td>9$100,000 to under $150,000</td>\n",
              "      <td>0</td>\n",
              "    </tr>\n",
              "    <tr>\n",
              "      <th>2830</th>\n",
              "      <td>16</td>\n",
              "      <td>Male</td>\n",
              "      <td>White</td>\n",
              "      <td>Never been married</td>\n",
              "      <td>High school graduate</td>\n",
              "      <td>Not employed for pay</td>\n",
              "      <td>9$100,000 to under $150,000</td>\n",
              "      <td>0</td>\n",
              "    </tr>\n",
              "    <tr>\n",
              "      <th>2831</th>\n",
              "      <td>16</td>\n",
              "      <td>Male</td>\n",
              "      <td>White</td>\n",
              "      <td>Never been married</td>\n",
              "      <td>Don’t know</td>\n",
              "      <td>Not employed for pay</td>\n",
              "      <td>Refused</td>\n",
              "      <td>0</td>\n",
              "    </tr>\n",
              "  </tbody>\n",
              "</table>\n",
              "<p>2832 rows × 8 columns</p>\n",
              "</div>\n",
              "      <button class=\"colab-df-convert\" onclick=\"convertToInteractive('df-2d198b93-f9b4-4c73-85ba-915eba385dae')\"\n",
              "              title=\"Convert this dataframe to an interactive table.\"\n",
              "              style=\"display:none;\">\n",
              "        \n",
              "  <svg xmlns=\"http://www.w3.org/2000/svg\" height=\"24px\"viewBox=\"0 0 24 24\"\n",
              "       width=\"24px\">\n",
              "    <path d=\"M0 0h24v24H0V0z\" fill=\"none\"/>\n",
              "    <path d=\"M18.56 5.44l.94 2.06.94-2.06 2.06-.94-2.06-.94-.94-2.06-.94 2.06-2.06.94zm-11 1L8.5 8.5l.94-2.06 2.06-.94-2.06-.94L8.5 2.5l-.94 2.06-2.06.94zm10 10l.94 2.06.94-2.06 2.06-.94-2.06-.94-.94-2.06-.94 2.06-2.06.94z\"/><path d=\"M17.41 7.96l-1.37-1.37c-.4-.4-.92-.59-1.43-.59-.52 0-1.04.2-1.43.59L10.3 9.45l-7.72 7.72c-.78.78-.78 2.05 0 2.83L4 21.41c.39.39.9.59 1.41.59.51 0 1.02-.2 1.41-.59l7.78-7.78 2.81-2.81c.8-.78.8-2.07 0-2.86zM5.41 20L4 18.59l7.72-7.72 1.47 1.35L5.41 20z\"/>\n",
              "  </svg>\n",
              "      </button>\n",
              "      \n",
              "  <style>\n",
              "    .colab-df-container {\n",
              "      display:flex;\n",
              "      flex-wrap:wrap;\n",
              "      gap: 12px;\n",
              "    }\n",
              "\n",
              "    .colab-df-convert {\n",
              "      background-color: #E8F0FE;\n",
              "      border: none;\n",
              "      border-radius: 50%;\n",
              "      cursor: pointer;\n",
              "      display: none;\n",
              "      fill: #1967D2;\n",
              "      height: 32px;\n",
              "      padding: 0 0 0 0;\n",
              "      width: 32px;\n",
              "    }\n",
              "\n",
              "    .colab-df-convert:hover {\n",
              "      background-color: #E2EBFA;\n",
              "      box-shadow: 0px 1px 2px rgba(60, 64, 67, 0.3), 0px 1px 3px 1px rgba(60, 64, 67, 0.15);\n",
              "      fill: #174EA6;\n",
              "    }\n",
              "\n",
              "    [theme=dark] .colab-df-convert {\n",
              "      background-color: #3B4455;\n",
              "      fill: #D2E3FC;\n",
              "    }\n",
              "\n",
              "    [theme=dark] .colab-df-convert:hover {\n",
              "      background-color: #434B5C;\n",
              "      box-shadow: 0px 1px 3px 1px rgba(0, 0, 0, 0.15);\n",
              "      filter: drop-shadow(0px 1px 2px rgba(0, 0, 0, 0.3));\n",
              "      fill: #FFFFFF;\n",
              "    }\n",
              "  </style>\n",
              "\n",
              "      <script>\n",
              "        const buttonEl =\n",
              "          document.querySelector('#df-2d198b93-f9b4-4c73-85ba-915eba385dae button.colab-df-convert');\n",
              "        buttonEl.style.display =\n",
              "          google.colab.kernel.accessAllowed ? 'block' : 'none';\n",
              "\n",
              "        async function convertToInteractive(key) {\n",
              "          const element = document.querySelector('#df-2d198b93-f9b4-4c73-85ba-915eba385dae');\n",
              "          const dataTable =\n",
              "            await google.colab.kernel.invokeFunction('convertToInteractive',\n",
              "                                                     [key], {});\n",
              "          if (!dataTable) return;\n",
              "\n",
              "          const docLinkHtml = 'Like what you see? Visit the ' +\n",
              "            '<a target=\"_blank\" href=https://colab.research.google.com/notebooks/data_table.ipynb>data table notebook</a>'\n",
              "            + ' to learn more about interactive tables.';\n",
              "          element.innerHTML = '';\n",
              "          dataTable['output_type'] = 'display_data';\n",
              "          await google.colab.output.renderOutput(dataTable, element);\n",
              "          const docLink = document.createElement('div');\n",
              "          docLink.innerHTML = docLinkHtml;\n",
              "          element.appendChild(docLink);\n",
              "        }\n",
              "      </script>\n",
              "    </div>\n",
              "  </div>\n",
              "  "
            ]
          },
          "metadata": {},
          "execution_count": 15
        }
      ]
    },
    {
      "cell_type": "code",
      "source": [
        "#new_df = new_df[new_df['Race'] == 'White']\n",
        "#new_df"
      ],
      "metadata": {
        "id": "pZr6VyyFfiJ3"
      },
      "execution_count": null,
      "outputs": []
    },
    {
      "cell_type": "code",
      "source": [
        "from sklearn.preprocessing import OneHotEncoder, OrdinalEncoder\n",
        "from sklearn.compose import make_column_transformer\n",
        "from sklearn.pipeline import make_pipeline\n",
        "from sklearn.model_selection import train_test_split\n",
        "from sklearn.linear_model import LinearRegression\n",
        "from sklearn.ensemble import GradientBoostingRegressor\n",
        "import seaborn as sns\n",
        "import matplotlib.pyplot as plt\n",
        "from sklearn.metrics import mean_absolute_error, mean_squared_error\n",
        "from sklearn.ensemble import RandomForestClassifier\n",
        "from sklearn.metrics import mean_absolute_error as mae"
      ],
      "metadata": {
        "id": "OtMbUvFapvE_"
      },
      "execution_count": null,
      "outputs": []
    },
    {
      "cell_type": "code",
      "source": [
        "import seaborn as sns\n",
        "# Pairplot for Numerical values in our dataset\n",
        "sns.pairplot(data=df, diag_kind='kde')"
      ],
      "metadata": {
        "colab": {
          "base_uri": "https://localhost:8080/",
          "height": 392
        },
        "id": "FD57Uyp6AR9f",
        "outputId": "62169ae7-c8a3-400c-8e6a-e787933351bd"
      },
      "execution_count": null,
      "outputs": [
        {
          "output_type": "execute_result",
          "data": {
            "text/plain": [
              "<seaborn.axisgrid.PairGrid at 0x7fed96386b80>"
            ]
          },
          "metadata": {},
          "execution_count": 18
        },
        {
          "output_type": "display_data",
          "data": {
            "text/plain": [
              "<Figure size 360x360 with 6 Axes>"
            ],
            "image/png": "[encoded data removed]"
          },
          "metadata": {
            "needs_background": "light"
          }
        }
      ]
    },
    {
      "cell_type": "markdown",
      "source": [
        "From the above plot:\n",
        "\n",
        "Age follows a normal distribution.\n",
        "\n",
        "N_of_Books is skewed to the right."
      ],
      "metadata": {
        "id": "fQ4aaRziAXgN"
      }
    },
    {
      "cell_type": "code",
      "source": [
        "# Plotting Categorical Features\n",
        "# Sex Feature\n",
        "sns.countplot(y ='Sex', data = df)\n",
        "plt.title(\"Sex Feature Count\")\n",
        "plt.show()"
      ],
      "metadata": {
        "colab": {
          "base_uri": "https://localhost:8080/",
          "height": 295
        },
        "id": "FoUegNKMAW2_",
        "outputId": "bcd2041f-987e-41ce-da92-87fc9e856191"
      },
      "execution_count": null,
      "outputs": [
        {
          "output_type": "display_data",
          "data": {
            "text/plain": [
              "<Figure size 432x288 with 1 Axes>"
            ],
            "image/png": "[encoded data removed]"
          },
          "metadata": {
            "needs_background": "light"
          }
        }
      ]
    },
    {
      "cell_type": "code",
      "source": [
        "# Race Feature\n",
        "plot = sns.countplot(y ='Race', data = df)\n",
        "plot = plt.xticks(rotation='vertical')\n",
        "plt.title(\"Race Feature Count\")\n",
        "plt.show()"
      ],
      "metadata": {
        "colab": {
          "base_uri": "https://localhost:8080/",
          "height": 311
        },
        "id": "_iimzp9UAdET",
        "outputId": "408bf182-3c79-4ccd-ad94-0703972f00ca"
      },
      "execution_count": null,
      "outputs": [
        {
          "output_type": "display_data",
          "data": {
            "text/plain": [
              "<Figure size 432x288 with 1 Axes>"
            ],
            "image/png": "[encoded data removed]"
          },
          "metadata": {
            "needs_background": "light"
          }
        }
      ]
    },
    {
      "cell_type": "code",
      "source": [
        "# Marital status? Feature\n",
        "plot = sns.countplot(y ='Marital status?', data = df)\n",
        "plot = plt.xticks(rotation='vertical')\n",
        "plt.title(\"Marital status Feature Count\")\n",
        "plt.show()"
      ],
      "metadata": {
        "colab": {
          "base_uri": "https://localhost:8080/",
          "height": 311
        },
        "id": "aV9DsgQbAgHS",
        "outputId": "43dfac34-7422-4b5d-ffcc-c0c1e9d72067"
      },
      "execution_count": null,
      "outputs": [
        {
          "output_type": "display_data",
          "data": {
            "text/plain": [
              "<Figure size 432x288 with 1 Axes>"
            ],
            "image/png": "[encoded data removed]"
          },
          "metadata": {
            "needs_background": "light"
          }
        }
      ]
    },
    {
      "cell_type": "code",
      "source": [
        "# Education Feature\n",
        "plot = sns.countplot(y ='Education', data = df)\n",
        "plot = plt.xticks(rotation='vertical')\n",
        "plt.title(\"Education Feature Count\")\n",
        "plt.show()"
      ],
      "metadata": {
        "colab": {
          "base_uri": "https://localhost:8080/",
          "height": 304
        },
        "id": "OV6SDUkGAmls",
        "outputId": "f374e33d-bcf7-4e4b-86bb-94bf76dacce9"
      },
      "execution_count": null,
      "outputs": [
        {
          "output_type": "display_data",
          "data": {
            "text/plain": [
              "<Figure size 432x288 with 1 Axes>"
            ],
            "image/png": "[encoded data removed]"
          },
          "metadata": {
            "needs_background": "light"
          }
        }
      ]
    },
    {
      "cell_type": "code",
      "source": [
        "# Employement Feature\n",
        "plot = sns.countplot(y ='Employement', data = df)\n",
        "plot = plt.xticks(rotation='vertical')\n",
        "plt.title(\"Employement Feature Count\")\n",
        "plt.show()"
      ],
      "metadata": {
        "colab": {
          "base_uri": "https://localhost:8080/",
          "height": 311
        },
        "id": "85YWMXgqApoa",
        "outputId": "23af9273-0fa1-4e7a-e4b0-6b467d19c774"
      },
      "execution_count": null,
      "outputs": [
        {
          "output_type": "display_data",
          "data": {
            "text/plain": [
              "<Figure size 432x288 with 1 Axes>"
            ],
            "image/png": "[encoded data removed]"
          },
          "metadata": {
            "needs_background": "light"
          }
        }
      ]
    },
    {
      "cell_type": "code",
      "source": [
        "# Incomes Feature\n",
        "plot = sns.countplot(y ='Incomes', data = df)\n",
        "plot = plt.xticks(rotation='vertical')\n",
        "plt.title(\"Incomes Feature Count\")\n",
        "plt.show()"
      ],
      "metadata": {
        "colab": {
          "base_uri": "https://localhost:8080/",
          "height": 304
        },
        "id": "6H0Lni3BAvIZ",
        "outputId": "52500a86-1945-4f1c-de8c-02ef461c44ba"
      },
      "execution_count": null,
      "outputs": [
        {
          "output_type": "display_data",
          "data": {
            "text/plain": [
              "<Figure size 432x288 with 1 Axes>"
            ],
            "image/png": "[encoded data removed]"
          },
          "metadata": {
            "needs_background": "light"
          }
        }
      ]
    },
    {
      "cell_type": "code",
      "source": [
        "import seaborn\n",
        "# plotting qualitative vs quantitative features using box plot\n",
        "# (Education vs Number of Books) relationship visualization\n",
        "seaborn.set(style=\"whitegrid\")\n",
        "seaborn.boxplot(y = 'Education', x = 'N_of_Books?', data = new_df).set(title='Education vs Number of Books')"
      ],
      "metadata": {
        "colab": {
          "base_uri": "https://localhost:8080/",
          "height": 319
        },
        "id": "0yBB55OFUUgv",
        "outputId": "94bf73b5-0d18-47bc-a998-be6f01e92e42"
      },
      "execution_count": null,
      "outputs": [
        {
          "output_type": "execute_result",
          "data": {
            "text/plain": [
              "[Text(0.5, 1.0, 'Education vs Number of Books')]"
            ]
          },
          "metadata": {},
          "execution_count": 25
        },
        {
          "output_type": "display_data",
          "data": {
            "text/plain": [
              "<Figure size 432x288 with 1 Axes>"
            ],
            "image/png": "[encoded data removed]"
          },
          "metadata": {}
        }
      ]
    },
    {
      "cell_type": "code",
      "source": [
        "# (Employement vs Number of Books) relationship visualization\n",
        "seaborn.boxplot(y = 'Employement', x = 'N_of_Books?', data = new_df).set(title='Employement vs Number of Books')"
      ],
      "metadata": {
        "colab": {
          "base_uri": "https://localhost:8080/",
          "height": 319
        },
        "id": "ncTYS61CVFA8",
        "outputId": "3f914be1-9864-47e0-bf51-82056b583552"
      },
      "execution_count": null,
      "outputs": [
        {
          "output_type": "execute_result",
          "data": {
            "text/plain": [
              "[Text(0.5, 1.0, 'Employement vs Number of Books')]"
            ]
          },
          "metadata": {},
          "execution_count": 26
        },
        {
          "output_type": "display_data",
          "data": {
            "text/plain": [
              "<Figure size 432x288 with 1 Axes>"
            ],
            "image/png": "[encoded data removed]"
          },
          "metadata": {}
        }
      ]
    },
    {
      "cell_type": "code",
      "source": [
        "# (Incomes vs Number of Books) relationship visualization\n",
        "seaborn.boxplot(y = 'Incomes', x = 'N_of_Books?', data = new_df).set(title='Incomes vs Number of Books')"
      ],
      "metadata": {
        "colab": {
          "base_uri": "https://localhost:8080/",
          "height": 319
        },
        "id": "X39H2Be5VHRq",
        "outputId": "9bfda5ef-f32d-433c-e100-23a651c968c7"
      },
      "execution_count": null,
      "outputs": [
        {
          "output_type": "execute_result",
          "data": {
            "text/plain": [
              "[Text(0.5, 1.0, 'Incomes vs Number of Books')]"
            ]
          },
          "metadata": {},
          "execution_count": 27
        },
        {
          "output_type": "display_data",
          "data": {
            "text/plain": [
              "<Figure size 432x288 with 1 Axes>"
            ],
            "image/png": "[encoded data removed]"
          },
          "metadata": {}
        }
      ]
    },
    {
      "cell_type": "code",
      "source": [
        "# The heatmap shows the correlation with numerical values. Numerical values in our dataset are two: AGe and Number of Books\n",
        "import matplotlib.pyplot as plt\n",
        "correlation = df.corr()\n",
        "sns.heatmap(correlation, annot = True, fmt = '.2f', cmap = 'Blues').set(title='Correlation between Age and Number of Books')"
      ],
      "metadata": {
        "colab": {
          "base_uri": "https://localhost:8080/",
          "height": 303
        },
        "id": "mb7gBcNAA4E-",
        "outputId": "ea3d5030-e96e-4191-c039-d0ebab004b90"
      },
      "execution_count": null,
      "outputs": [
        {
          "output_type": "execute_result",
          "data": {
            "text/plain": [
              "[Text(0.5, 1.0, 'Correlation between Age and Number of Books')]"
            ]
          },
          "metadata": {},
          "execution_count": 28
        },
        {
          "output_type": "display_data",
          "data": {
            "text/plain": [
              "<Figure size 432x288 with 2 Axes>"
            ],
            "image/png": "[encoded data removed]"
          },
          "metadata": {}
        }
      ]
    },
    {
      "cell_type": "markdown",
      "source": [
        "Correlation values range from -1 (negative correlation)  to +1 (positive correlation), if the value is equal to zero, there is no correlation.\n",
        " \n",
        " \n",
        "We observe from the heatmap that the age feature has positive/weak correlation with the N_of_Book feature. \n"
      ],
      "metadata": {
        "id": "CPKhiIBYA484"
      }
    },
    {
      "cell_type": "code",
      "source": [
        "# Define the upper and lower limit for the age outliers\n",
        "upper_limit = new_df['Age'].quantile(0.99)\n",
        "lower_limit = new_df['Age'].quantile(0.01)\n",
        "print('Upper limit', upper_limit)\n",
        "print('Lower limit',lower_limit)"
      ],
      "metadata": {
        "id": "rCYLnOY5GZph",
        "colab": {
          "base_uri": "https://localhost:8080/"
        },
        "outputId": "8fd7ee99-209a-439f-840e-1061b62384a0"
      },
      "execution_count": null,
      "outputs": [
        {
          "output_type": "stream",
          "name": "stdout",
          "text": [
            "Upper limit 85.0\n",
            "Lower limit 16.0\n"
          ]
        }
      ]
    },
    {
      "cell_type": "code",
      "source": [
        "# Filtering the outliers from age feature\n",
        "new_df = new_df[(new_df['Age'] <= 85.0) & (new_df['Age'] >= 16.0)]"
      ],
      "metadata": {
        "id": "GYGIsPWAGjq7"
      },
      "execution_count": null,
      "outputs": []
    },
    {
      "cell_type": "code",
      "source": [
        "# Define the upper and lower limit for the Number of books outliers\n",
        "upper_limit = new_df['N_of_Books?'].quantile(0.99)\n",
        "lower_limit = new_df['N_of_Books?'].quantile(0.01)\n",
        "print('Upper limit',upper_limit)\n",
        "print('Lower limit',lower_limit)"
      ],
      "metadata": {
        "id": "ZY7i3jvKHfir",
        "colab": {
          "base_uri": "https://localhost:8080/"
        },
        "outputId": "34315ffe-0808-4462-f320-c3ce3fa8d846"
      },
      "execution_count": null,
      "outputs": [
        {
          "output_type": "stream",
          "name": "stdout",
          "text": [
            "Upper limit 97.0\n",
            "Lower limit 0.0\n"
          ]
        }
      ]
    },
    {
      "cell_type": "code",
      "source": [
        "# Filtering the outliers from Number of books feature\n",
        "new_df = new_df[(new_df['N_of_Books?'] <= 97.0) & (new_df['N_of_Books?'] >= 0.0)]"
      ],
      "metadata": {
        "id": "ZBeB7KWxHhBZ"
      },
      "execution_count": null,
      "outputs": []
    },
    {
      "cell_type": "code",
      "source": [
        "# Instantiate OneHotEncoder\n",
        "ohe = OneHotEncoder(sparse = False)\n",
        "\n",
        "\n",
        "# Apply OneHotEncoder to the gender column \n",
        "ohe.fit_transform(new_df[['Sex']])[:5]"
      ],
      "metadata": {
        "colab": {
          "base_uri": "https://localhost:8080/"
        },
        "id": "xOeJyUQopg1S",
        "outputId": "a5e52f4a-651b-48df-e9d4-59dabfbae05f"
      },
      "execution_count": null,
      "outputs": [
        {
          "output_type": "execute_result",
          "data": {
            "text/plain": [
              "array([[0., 1.],\n",
              "       [0., 1.],\n",
              "       [0., 1.],\n",
              "       [0., 1.],\n",
              "       [1., 0.]])"
            ]
          },
          "metadata": {},
          "execution_count": 33
        }
      ]
    },
    {
      "cell_type": "code",
      "source": [
        "# Apply OneHotEncoder to the gender column \n",
        "ohe.fit_transform(new_df[['Race']])[:5]"
      ],
      "metadata": {
        "colab": {
          "base_uri": "https://localhost:8080/"
        },
        "id": "fZKpbVZZqKB7",
        "outputId": "3c19f93c-1e93-497c-9fe0-a7b58fc59646"
      },
      "execution_count": null,
      "outputs": [
        {
          "output_type": "execute_result",
          "data": {
            "text/plain": [
              "array([[0., 0., 0., 0., 0., 0., 1., 0.],\n",
              "       [0., 0., 0., 0., 1., 0., 0., 0.],\n",
              "       [0., 0., 0., 1., 0., 0., 0., 0.],\n",
              "       [0., 0., 0., 1., 0., 0., 0., 0.],\n",
              "       [0., 0., 0., 1., 0., 0., 0., 0.]])"
            ]
          },
          "metadata": {},
          "execution_count": 34
        }
      ]
    },
    {
      "cell_type": "code",
      "source": [
        "# Apply OneHotEncoder to the gender column \n",
        "ohe.fit_transform(new_df[['Marital status?']])[:5]"
      ],
      "metadata": {
        "colab": {
          "base_uri": "https://localhost:8080/"
        },
        "id": "wUzUVW5LqOsz",
        "outputId": "aeb3fb5d-8bf3-4df6-d55e-0cc9b8677b59"
      },
      "execution_count": null,
      "outputs": [
        {
          "output_type": "execute_result",
          "data": {
            "text/plain": [
              "array([[1., 0., 0., 0., 0., 0., 0., 0.],\n",
              "       [0., 0., 0., 1., 0., 0., 0., 0.],\n",
              "       [0., 0., 0., 0., 1., 0., 0., 0.],\n",
              "       [0., 0., 0., 1., 0., 0., 0., 0.],\n",
              "       [0., 0., 0., 0., 1., 0., 0., 0.]])"
            ]
          },
          "metadata": {},
          "execution_count": 35
        }
      ]
    },
    {
      "cell_type": "code",
      "source": [
        "# Apply OneHotEncoder to the gender column \n",
        "ohe.fit_transform(new_df[['Employement']])[:5]"
      ],
      "metadata": {
        "colab": {
          "base_uri": "https://localhost:8080/"
        },
        "id": "RrBo-sj8qc3t",
        "outputId": "659de61f-cef9-47df-b3c5-77ec577a869f"
      },
      "execution_count": null,
      "outputs": [
        {
          "output_type": "execute_result",
          "data": {
            "text/plain": [
              "array([[0., 0., 0., 0., 0., 0., 1., 0.],\n",
              "       [0., 1., 0., 0., 0., 0., 0., 0.],\n",
              "       [0., 1., 0., 0., 0., 0., 0., 0.],\n",
              "       [0., 1., 0., 0., 0., 0., 0., 0.],\n",
              "       [0., 0., 1., 0., 0., 0., 0., 0.]])"
            ]
          },
          "metadata": {},
          "execution_count": 36
        }
      ]
    },
    {
      "cell_type": "code",
      "source": [
        "# Unique values in the Education column\n",
        "list(new_df['Education'].unique())"
      ],
      "metadata": {
        "colab": {
          "base_uri": "https://localhost:8080/"
        },
        "id": "e44S7hwjqry4",
        "outputId": "c1d68945-804b-4d95-8060-5b2f0d959c2a"
      },
      "execution_count": null,
      "outputs": [
        {
          "output_type": "execute_result",
          "data": {
            "text/plain": [
              "['College graduate',\n",
              " 'High school graduate',\n",
              " 'High school incomplete',\n",
              " 'Some college, no 4-year degree',\n",
              " 'Post-graduate training/professional school after college',\n",
              " 'Technical, trade or vocational school AFTER high school',\n",
              " 'None',\n",
              " 'Don’t know']"
            ]
          },
          "metadata": {},
          "execution_count": 37
        }
      ]
    },
    {
      "cell_type": "code",
      "source": [
        "# Specify the order for the level of education \n",
        "education_categories = ['College graduate',\n",
        " 'High school graduate',\n",
        " 'High school incomplete',\n",
        " 'Some college, no 4-year degree',\n",
        " 'Post-graduate training/professional school after college',\n",
        " 'Technical, trade or vocational school AFTER high school',\n",
        " 'None',\n",
        " 'Don’t know']"
      ],
      "metadata": {
        "id": "dC5z7EOXrC4E"
      },
      "execution_count": null,
      "outputs": []
    },
    {
      "cell_type": "code",
      "source": [
        "# Instantiate ordinal encoder\n",
        "oe = OrdinalEncoder(categories = [education_categories])\n"
      ],
      "metadata": {
        "id": "atsaXf4ercAw"
      },
      "execution_count": null,
      "outputs": []
    },
    {
      "cell_type": "code",
      "source": [
        "# Apply ordinal encoder to Education column\n",
        "oe.fit_transform(new_df[['Education']])[:10]"
      ],
      "metadata": {
        "colab": {
          "base_uri": "https://localhost:8080/"
        },
        "id": "N494-i9VrqTu",
        "outputId": "73db689d-c914-404b-f004-1bd9965e71cb"
      },
      "execution_count": null,
      "outputs": [
        {
          "output_type": "execute_result",
          "data": {
            "text/plain": [
              "array([[0.],\n",
              "       [1.],\n",
              "       [1.],\n",
              "       [1.],\n",
              "       [2.],\n",
              "       [3.],\n",
              "       [3.],\n",
              "       [0.],\n",
              "       [4.],\n",
              "       [1.]])"
            ]
          },
          "metadata": {},
          "execution_count": 40
        }
      ]
    },
    {
      "cell_type": "code",
      "source": [
        "from sklearn.model_selection import train_test_split\n",
        "from sklearn import preprocessing\n",
        "\n",
        "# we dropped incomes feature because when we encoded it as a categorical/ordinal feature, we has an error due to typo error. \n",
        "X = new_df.drop('Incomes', axis = 1)\n",
        "Y = new_df[\"N_of_Books?\"]\n",
        "\n",
        "\n",
        "# Train test split \n",
        "X_train, X_test, Y_train, Y_test = train_test_split(X, Y, test_size = 0.2, random_state = 42)\n",
        "\n",
        "print(\"X_train shape: \", X_train.shape)\n",
        "print(\"Y_train shape: \", Y_train.shape)\n",
        "print(\"X_test shape: \", X_test.shape)\n",
        "print(\"Y_test shape: \", Y_test.shape)"
      ],
      "metadata": {
        "colab": {
          "base_uri": "https://localhost:8080/"
        },
        "id": "vTHQxpfmsXdj",
        "outputId": "17c576ab-9785-4fb6-88bf-152124035eae"
      },
      "execution_count": null,
      "outputs": [
        {
          "output_type": "stream",
          "name": "stdout",
          "text": [
            "X_train shape:  (2243, 7)\n",
            "Y_train shape:  (2243,)\n",
            "X_test shape:  (561, 7)\n",
            "Y_test shape:  (561,)\n"
          ]
        }
      ]
    },
    {
      "cell_type": "code",
      "source": [
        "# Make column transformer which consists of OneHotEncoder and OrdincalEncoder\n",
        "column_transform = make_column_transformer(\n",
        "    (ohe, ['Sex', 'Race','Marital status?','Employement']), \n",
        "    (oe, ['Education']))"
      ],
      "metadata": {
        "id": "AVp9dX4ntBkJ"
      },
      "execution_count": null,
      "outputs": []
    },
    {
      "cell_type": "code",
      "source": [
        "from sklearn.linear_model import LinearRegression\n",
        "from sklearn.tree import DecisionTreeRegressor\n",
        "from sklearn.metrics import r2_score, mean_absolute_error, mean_squared_error\n",
        "\n",
        "\n",
        "# Instantiate pipeline with linear regression\n",
        "lm = LinearRegression()\n",
        "lm_pipeline = make_pipeline(column_transform, lm)"
      ],
      "metadata": {
        "id": "ZamojaGStFvj"
      },
      "execution_count": null,
      "outputs": []
    },
    {
      "cell_type": "code",
      "source": [
        "# Instantiate pipeline with gradient boosting\n",
        "gbm = GradientBoostingRegressor()\n",
        "gbm_pipeline = make_pipeline(column_transform, gbm)"
      ],
      "metadata": {
        "id": "8jw9CxpEtdlt"
      },
      "execution_count": null,
      "outputs": []
    },
    {
      "cell_type": "code",
      "source": [
        "# Instantiate pipeline with Decision Tree\n",
        "dt = DecisionTreeRegressor()\n",
        "dt_pipeline = make_pipeline(column_transform, dt)"
      ],
      "metadata": {
        "id": "b2eyTMnHvGeU"
      },
      "execution_count": null,
      "outputs": []
    },
    {
      "cell_type": "code",
      "source": [
        "# Fit pipeline to training set and make predictions on test set \n",
        "lm_pipeline.fit(X_train, Y_train)\n",
        "lm_predictions = lm_pipeline.predict(X_test)\n",
        "print(\"First 5 LM predictions: \", list(lm_predictions[:5]))\n",
        "\n",
        "gbm_pipeline.fit(X_train, Y_train)\n",
        "gbm_predictions = gbm_pipeline.predict(X_test)\n",
        "print(\"First 5 GBM predictions: \", list(gbm_predictions[:5]))\n",
        "\n",
        "dt_pipeline.fit(X_train, Y_train)\n",
        "dt_predictions = dt_pipeline.predict(X_test)\n",
        "print(\"First 5 DT predictions: \", list(dt_predictions[:5]))"
      ],
      "metadata": {
        "colab": {
          "base_uri": "https://localhost:8080/"
        },
        "id": "YsUuEorqtfDB",
        "outputId": "89acd1a3-73d8-4cbe-a9d0-8ef51b2352a6"
      },
      "execution_count": null,
      "outputs": [
        {
          "output_type": "stream",
          "name": "stdout",
          "text": [
            "First 5 LM predictions:  [18.8125, 19.875, 11.65625, 7.53125, 20.15625]\n",
            "First 5 GBM predictions:  [15.51783649561837, 22.448925065258695, 9.312678906344818, 1.480158929559059, 11.710230111880193]\n",
            "First 5 DT predictions:  [14.066666666666666, 26.8125, 8.553846153846154, 10.0, 3.0]\n"
          ]
        }
      ]
    },
    {
      "cell_type": "code",
      "source": [
        "# Compare the number of predictions with the size of test set\n",
        "print(\"Number of LM predictions: \", len(lm_predictions))\n",
        "print(\"Number of GBM predictions: \", len(gbm_predictions))\n",
        "print(\"Number of DT predictions: \", len(dt_predictions))\n",
        "print(\"Size of test set: \", len(Y_test))"
      ],
      "metadata": {
        "colab": {
          "base_uri": "https://localhost:8080/"
        },
        "id": "4BYwrE24twen",
        "outputId": "bbdd33d6-e861-429e-fa8e-3b947867a026"
      },
      "execution_count": null,
      "outputs": [
        {
          "output_type": "stream",
          "name": "stdout",
          "text": [
            "Number of LM predictions:  561\n",
            "Number of GBM predictions:  561\n",
            "Number of DT predictions:  561\n",
            "Size of test set:  561\n"
          ]
        }
      ]
    },
    {
      "cell_type": "markdown",
      "source": [
        "**Models Evaluation:**\n",
        "\n",
        "Since our dataset has many outliers, we will use Mean Absolute Error and R2 to evaluate our models."
      ],
      "metadata": {
        "id": "-V8Q2Rn7wRP_"
      }
    },
    {
      "cell_type": "code",
      "source": [
        "# Calculate mean absolute error and r squared  \n",
        "lm_mae = mean_absolute_error(lm_predictions, Y_test)\n",
        "lm_r2 = r2_score(Y_test, lm_predictions)\n",
        "print(\"Multiple Linear Regression (MAE): {:.2f}\".format(round(lm_mae, 2)))\n",
        "print(\"Multiple Linear Regression (r2): {:.2f}\".format(round(lm_r2, 2)))\n",
        "print(\"\")\n",
        "\n",
        "\n",
        "gbm_mae = mean_absolute_error(gbm_predictions, Y_test)\n",
        "gbm_r2 = r2_score(Y_test, gbm_predictions)\n",
        "print(\"Gradient Boosting Regressor (MAE): {:.2f}\".format(round(gbm_mae, 2)))\n",
        "print(\"Gradient Boosting Regressor (r2): {:.2f}\".format(round(gbm_r2, 2)))\n",
        "print(\"\")\n",
        "\n",
        "\n",
        "dt_mae = mean_absolute_error(dt_predictions, Y_test)\n",
        "dt_r2 = r2_score(Y_test, dt_predictions)\n",
        "print(\"Decision Tree Regressor (MAE): {:.2f}\".format(round(dt_mae, 2)))\n",
        "print(\"Decision Tree Regressor (r2): {:.2f}\".format(round(dt_r2, 2)))"
      ],
      "metadata": {
        "colab": {
          "base_uri": "https://localhost:8080/"
        },
        "id": "_KcAZzJZty4o",
        "outputId": "84c7f464-5b64-423e-dbba-7648c9309a11"
      },
      "execution_count": null,
      "outputs": [
        {
          "output_type": "stream",
          "name": "stdout",
          "text": [
            "Multiple Linear Regression (MAE): 15.98\n",
            "Multiple Linear Regression (r2): 0.03\n",
            "\n",
            "Gradient Boosting Regressor (MAE): 15.67\n",
            "Gradient Boosting Regressor (r2): 0.05\n",
            "\n",
            "Decision Tree Regressor (MAE): 16.66\n",
            "Decision Tree Regressor (r2): -0.13\n"
          ]
        }
      ]
    },
    {
      "cell_type": "markdown",
      "source": [
        "**For MAE:**\n",
        "\n",
        "This metric measures the difference between predictions and true value of the predictions.\n",
        "\n",
        "\n",
        "\n",
        "\n",
        "**For r2:**\n",
        "\n",
        "\n",
        "This metric compares the model predictions to the mean of our target. Values can range from negative infinity (very poor model) to 1 (perfectly predict the values).\n",
        "\n",
        "Among the three models, Gradient boosting performs slightly better  \n",
        "(r2 =0.04) than multiple linear regression(r2 =0.03) and Decision tree (r2 = -0.30) models."
      ],
      "metadata": {
        "id": "CE6ch78fwxXm"
      }
    },
    {
      "cell_type": "code",
      "source": [
        "# Actual and Predicted Values\n",
        "df_lm = pd.DataFrame({'Actual': Y_test, 'Predicted': lm_predictions})\n",
        "df_lm[:7]"
      ],
      "metadata": {
        "colab": {
          "base_uri": "https://localhost:8080/",
          "height": 269
        },
        "id": "BRn6rlznwwcM",
        "outputId": "8f56abed-cfd8-4016-aa19-988c935502bd"
      },
      "execution_count": null,
      "outputs": [
        {
          "output_type": "execute_result",
          "data": {
            "text/plain": [
              "      Actual  Predicted\n",
              "1098      12   18.81250\n",
              "1048      12   19.87500\n",
              "1532       6   11.65625\n",
              "2524       0    7.53125\n",
              "1529       6   20.15625\n",
              "699       20   23.09375\n",
              "198       54   22.78125"
            ],
            "text/html": [
              "\n",
              "  <div id=\"df-78777e7d-d121-489d-968c-5a0b0c856847\">\n",
              "    <div class=\"colab-df-container\">\n",
              "      <div>\n",
              "<style scoped>\n",
              "    .dataframe tbody tr th:only-of-type {\n",
              "        vertical-align: middle;\n",
              "    }\n",
              "\n",
              "    .dataframe tbody tr th {\n",
              "        vertical-align: top;\n",
              "    }\n",
              "\n",
              "    .dataframe thead th {\n",
              "        text-align: right;\n",
              "    }\n",
              "</style>\n",
              "<table border=\"1\" class=\"dataframe\">\n",
              "  <thead>\n",
              "    <tr style=\"text-align: right;\">\n",
              "      <th></th>\n",
              "      <th>Actual</th>\n",
              "      <th>Predicted</th>\n",
              "    </tr>\n",
              "  </thead>\n",
              "  <tbody>\n",
              "    <tr>\n",
              "      <th>1098</th>\n",
              "      <td>12</td>\n",
              "      <td>18.81250</td>\n",
              "    </tr>\n",
              "    <tr>\n",
              "      <th>1048</th>\n",
              "      <td>12</td>\n",
              "      <td>19.87500</td>\n",
              "    </tr>\n",
              "    <tr>\n",
              "      <th>1532</th>\n",
              "      <td>6</td>\n",
              "      <td>11.65625</td>\n",
              "    </tr>\n",
              "    <tr>\n",
              "      <th>2524</th>\n",
              "      <td>0</td>\n",
              "      <td>7.53125</td>\n",
              "    </tr>\n",
              "    <tr>\n",
              "      <th>1529</th>\n",
              "      <td>6</td>\n",
              "      <td>20.15625</td>\n",
              "    </tr>\n",
              "    <tr>\n",
              "      <th>699</th>\n",
              "      <td>20</td>\n",
              "      <td>23.09375</td>\n",
              "    </tr>\n",
              "    <tr>\n",
              "      <th>198</th>\n",
              "      <td>54</td>\n",
              "      <td>22.78125</td>\n",
              "    </tr>\n",
              "  </tbody>\n",
              "</table>\n",
              "</div>\n",
              "      <button class=\"colab-df-convert\" onclick=\"convertToInteractive('df-78777e7d-d121-489d-968c-5a0b0c856847')\"\n",
              "              title=\"Convert this dataframe to an interactive table.\"\n",
              "              style=\"display:none;\">\n",
              "        \n",
              "  <svg xmlns=\"http://www.w3.org/2000/svg\" height=\"24px\"viewBox=\"0 0 24 24\"\n",
              "       width=\"24px\">\n",
              "    <path d=\"M0 0h24v24H0V0z\" fill=\"none\"/>\n",
              "    <path d=\"M18.56 5.44l.94 2.06.94-2.06 2.06-.94-2.06-.94-.94-2.06-.94 2.06-2.06.94zm-11 1L8.5 8.5l.94-2.06 2.06-.94-2.06-.94L8.5 2.5l-.94 2.06-2.06.94zm10 10l.94 2.06.94-2.06 2.06-.94-2.06-.94-.94-2.06-.94 2.06-2.06.94z\"/><path d=\"M17.41 7.96l-1.37-1.37c-.4-.4-.92-.59-1.43-.59-.52 0-1.04.2-1.43.59L10.3 9.45l-7.72 7.72c-.78.78-.78 2.05 0 2.83L4 21.41c.39.39.9.59 1.41.59.51 0 1.02-.2 1.41-.59l7.78-7.78 2.81-2.81c.8-.78.8-2.07 0-2.86zM5.41 20L4 18.59l7.72-7.72 1.47 1.35L5.41 20z\"/>\n",
              "  </svg>\n",
              "      </button>\n",
              "      \n",
              "  <style>\n",
              "    .colab-df-container {\n",
              "      display:flex;\n",
              "      flex-wrap:wrap;\n",
              "      gap: 12px;\n",
              "    }\n",
              "\n",
              "    .colab-df-convert {\n",
              "      background-color: #E8F0FE;\n",
              "      border: none;\n",
              "      border-radius: 50%;\n",
              "      cursor: pointer;\n",
              "      display: none;\n",
              "      fill: #1967D2;\n",
              "      height: 32px;\n",
              "      padding: 0 0 0 0;\n",
              "      width: 32px;\n",
              "    }\n",
              "\n",
              "    .colab-df-convert:hover {\n",
              "      background-color: #E2EBFA;\n",
              "      box-shadow: 0px 1px 2px rgba(60, 64, 67, 0.3), 0px 1px 3px 1px rgba(60, 64, 67, 0.15);\n",
              "      fill: #174EA6;\n",
              "    }\n",
              "\n",
              "    [theme=dark] .colab-df-convert {\n",
              "      background-color: #3B4455;\n",
              "      fill: #D2E3FC;\n",
              "    }\n",
              "\n",
              "    [theme=dark] .colab-df-convert:hover {\n",
              "      background-color: #434B5C;\n",
              "      box-shadow: 0px 1px 3px 1px rgba(0, 0, 0, 0.15);\n",
              "      filter: drop-shadow(0px 1px 2px rgba(0, 0, 0, 0.3));\n",
              "      fill: #FFFFFF;\n",
              "    }\n",
              "  </style>\n",
              "\n",
              "      <script>\n",
              "        const buttonEl =\n",
              "          document.querySelector('#df-78777e7d-d121-489d-968c-5a0b0c856847 button.colab-df-convert');\n",
              "        buttonEl.style.display =\n",
              "          google.colab.kernel.accessAllowed ? 'block' : 'none';\n",
              "\n",
              "        async function convertToInteractive(key) {\n",
              "          const element = document.querySelector('#df-78777e7d-d121-489d-968c-5a0b0c856847');\n",
              "          const dataTable =\n",
              "            await google.colab.kernel.invokeFunction('convertToInteractive',\n",
              "                                                     [key], {});\n",
              "          if (!dataTable) return;\n",
              "\n",
              "          const docLinkHtml = 'Like what you see? Visit the ' +\n",
              "            '<a target=\"_blank\" href=https://colab.research.google.com/notebooks/data_table.ipynb>data table notebook</a>'\n",
              "            + ' to learn more about interactive tables.';\n",
              "          element.innerHTML = '';\n",
              "          dataTable['output_type'] = 'display_data';\n",
              "          await google.colab.output.renderOutput(dataTable, element);\n",
              "          const docLink = document.createElement('div');\n",
              "          docLink.innerHTML = docLinkHtml;\n",
              "          element.appendChild(docLink);\n",
              "        }\n",
              "      </script>\n",
              "    </div>\n",
              "  </div>\n",
              "  "
            ]
          },
          "metadata": {},
          "execution_count": 49
        }
      ]
    },
    {
      "cell_type": "code",
      "source": [
        "# Difference between actual and predicted values\n",
        "df_lm['Difference'] = df_lm['Actual'] - df_lm['Predicted']\n",
        "df_lm[:7]"
      ],
      "metadata": {
        "colab": {
          "base_uri": "https://localhost:8080/",
          "height": 269
        },
        "id": "6AqfsYDimZzY",
        "outputId": "18cf141a-7259-4a85-aa63-c5f33f6ae4cc"
      },
      "execution_count": null,
      "outputs": [
        {
          "output_type": "execute_result",
          "data": {
            "text/plain": [
              "      Actual  Predicted  Difference\n",
              "1098      12   18.81250    -6.81250\n",
              "1048      12   19.87500    -7.87500\n",
              "1532       6   11.65625    -5.65625\n",
              "2524       0    7.53125    -7.53125\n",
              "1529       6   20.15625   -14.15625\n",
              "699       20   23.09375    -3.09375\n",
              "198       54   22.78125    31.21875"
            ],
            "text/html": [
              "\n",
              "  <div id=\"df-d760f258-472b-4a8e-8f57-f9c69495e955\">\n",
              "    <div class=\"colab-df-container\">\n",
              "      <div>\n",
              "<style scoped>\n",
              "    .dataframe tbody tr th:only-of-type {\n",
              "        vertical-align: middle;\n",
              "    }\n",
              "\n",
              "    .dataframe tbody tr th {\n",
              "        vertical-align: top;\n",
              "    }\n",
              "\n",
              "    .dataframe thead th {\n",
              "        text-align: right;\n",
              "    }\n",
              "</style>\n",
              "<table border=\"1\" class=\"dataframe\">\n",
              "  <thead>\n",
              "    <tr style=\"text-align: right;\">\n",
              "      <th></th>\n",
              "      <th>Actual</th>\n",
              "      <th>Predicted</th>\n",
              "      <th>Difference</th>\n",
              "    </tr>\n",
              "  </thead>\n",
              "  <tbody>\n",
              "    <tr>\n",
              "      <th>1098</th>\n",
              "      <td>12</td>\n",
              "      <td>18.81250</td>\n",
              "      <td>-6.81250</td>\n",
              "    </tr>\n",
              "    <tr>\n",
              "      <th>1048</th>\n",
              "      <td>12</td>\n",
              "      <td>19.87500</td>\n",
              "      <td>-7.87500</td>\n",
              "    </tr>\n",
              "    <tr>\n",
              "      <th>1532</th>\n",
              "      <td>6</td>\n",
              "      <td>11.65625</td>\n",
              "      <td>-5.65625</td>\n",
              "    </tr>\n",
              "    <tr>\n",
              "      <th>2524</th>\n",
              "      <td>0</td>\n",
              "      <td>7.53125</td>\n",
              "      <td>-7.53125</td>\n",
              "    </tr>\n",
              "    <tr>\n",
              "      <th>1529</th>\n",
              "      <td>6</td>\n",
              "      <td>20.15625</td>\n",
              "      <td>-14.15625</td>\n",
              "    </tr>\n",
              "    <tr>\n",
              "      <th>699</th>\n",
              "      <td>20</td>\n",
              "      <td>23.09375</td>\n",
              "      <td>-3.09375</td>\n",
              "    </tr>\n",
              "    <tr>\n",
              "      <th>198</th>\n",
              "      <td>54</td>\n",
              "      <td>22.78125</td>\n",
              "      <td>31.21875</td>\n",
              "    </tr>\n",
              "  </tbody>\n",
              "</table>\n",
              "</div>\n",
              "      <button class=\"colab-df-convert\" onclick=\"convertToInteractive('df-d760f258-472b-4a8e-8f57-f9c69495e955')\"\n",
              "              title=\"Convert this dataframe to an interactive table.\"\n",
              "              style=\"display:none;\">\n",
              "        \n",
              "  <svg xmlns=\"http://www.w3.org/2000/svg\" height=\"24px\"viewBox=\"0 0 24 24\"\n",
              "       width=\"24px\">\n",
              "    <path d=\"M0 0h24v24H0V0z\" fill=\"none\"/>\n",
              "    <path d=\"M18.56 5.44l.94 2.06.94-2.06 2.06-.94-2.06-.94-.94-2.06-.94 2.06-2.06.94zm-11 1L8.5 8.5l.94-2.06 2.06-.94-2.06-.94L8.5 2.5l-.94 2.06-2.06.94zm10 10l.94 2.06.94-2.06 2.06-.94-2.06-.94-.94-2.06-.94 2.06-2.06.94z\"/><path d=\"M17.41 7.96l-1.37-1.37c-.4-.4-.92-.59-1.43-.59-.52 0-1.04.2-1.43.59L10.3 9.45l-7.72 7.72c-.78.78-.78 2.05 0 2.83L4 21.41c.39.39.9.59 1.41.59.51 0 1.02-.2 1.41-.59l7.78-7.78 2.81-2.81c.8-.78.8-2.07 0-2.86zM5.41 20L4 18.59l7.72-7.72 1.47 1.35L5.41 20z\"/>\n",
              "  </svg>\n",
              "      </button>\n",
              "      \n",
              "  <style>\n",
              "    .colab-df-container {\n",
              "      display:flex;\n",
              "      flex-wrap:wrap;\n",
              "      gap: 12px;\n",
              "    }\n",
              "\n",
              "    .colab-df-convert {\n",
              "      background-color: #E8F0FE;\n",
              "      border: none;\n",
              "      border-radius: 50%;\n",
              "      cursor: pointer;\n",
              "      display: none;\n",
              "      fill: #1967D2;\n",
              "      height: 32px;\n",
              "      padding: 0 0 0 0;\n",
              "      width: 32px;\n",
              "    }\n",
              "\n",
              "    .colab-df-convert:hover {\n",
              "      background-color: #E2EBFA;\n",
              "      box-shadow: 0px 1px 2px rgba(60, 64, 67, 0.3), 0px 1px 3px 1px rgba(60, 64, 67, 0.15);\n",
              "      fill: #174EA6;\n",
              "    }\n",
              "\n",
              "    [theme=dark] .colab-df-convert {\n",
              "      background-color: #3B4455;\n",
              "      fill: #D2E3FC;\n",
              "    }\n",
              "\n",
              "    [theme=dark] .colab-df-convert:hover {\n",
              "      background-color: #434B5C;\n",
              "      box-shadow: 0px 1px 3px 1px rgba(0, 0, 0, 0.15);\n",
              "      filter: drop-shadow(0px 1px 2px rgba(0, 0, 0, 0.3));\n",
              "      fill: #FFFFFF;\n",
              "    }\n",
              "  </style>\n",
              "\n",
              "      <script>\n",
              "        const buttonEl =\n",
              "          document.querySelector('#df-d760f258-472b-4a8e-8f57-f9c69495e955 button.colab-df-convert');\n",
              "        buttonEl.style.display =\n",
              "          google.colab.kernel.accessAllowed ? 'block' : 'none';\n",
              "\n",
              "        async function convertToInteractive(key) {\n",
              "          const element = document.querySelector('#df-d760f258-472b-4a8e-8f57-f9c69495e955');\n",
              "          const dataTable =\n",
              "            await google.colab.kernel.invokeFunction('convertToInteractive',\n",
              "                                                     [key], {});\n",
              "          if (!dataTable) return;\n",
              "\n",
              "          const docLinkHtml = 'Like what you see? Visit the ' +\n",
              "            '<a target=\"_blank\" href=https://colab.research.google.com/notebooks/data_table.ipynb>data table notebook</a>'\n",
              "            + ' to learn more about interactive tables.';\n",
              "          element.innerHTML = '';\n",
              "          dataTable['output_type'] = 'display_data';\n",
              "          await google.colab.output.renderOutput(dataTable, element);\n",
              "          const docLink = document.createElement('div');\n",
              "          docLink.innerHTML = docLinkHtml;\n",
              "          element.appendChild(docLink);\n",
              "        }\n",
              "      </script>\n",
              "    </div>\n",
              "  </div>\n",
              "  "
            ]
          },
          "metadata": {},
          "execution_count": 50
        }
      ]
    },
    {
      "cell_type": "markdown",
      "source": [
        "The differences between actual and predicted values are high, which means our lm model is high in variance and not a strong model.\n",
        "\n",
        "\n"
      ],
      "metadata": {
        "id": "JnpeREQYphZo"
      }
    },
    {
      "cell_type": "code",
      "source": [
        "# Actual and Predicted Values\n",
        "df_gbm = pd.DataFrame({'Actual': Y_test, 'Predicted': gbm_predictions})\n",
        "df_gbm[:7]"
      ],
      "metadata": {
        "colab": {
          "base_uri": "https://localhost:8080/",
          "height": 269
        },
        "id": "bv-sm0FSw1ZV",
        "outputId": "74678401-b8cd-42d6-951a-7ae733e2be6e"
      },
      "execution_count": null,
      "outputs": [
        {
          "output_type": "execute_result",
          "data": {
            "text/plain": [
              "      Actual  Predicted\n",
              "1098      12  15.517836\n",
              "1048      12  22.448925\n",
              "1532       6   9.312679\n",
              "2524       0   1.480159\n",
              "1529       6  11.710230\n",
              "699       20  26.049730\n",
              "198       54  14.648265"
            ],
            "text/html": [
              "\n",
              "  <div id=\"df-d4594e37-c1f9-4f3b-8bd4-fdb13f044c1c\">\n",
              "    <div class=\"colab-df-container\">\n",
              "      <div>\n",
              "<style scoped>\n",
              "    .dataframe tbody tr th:only-of-type {\n",
              "        vertical-align: middle;\n",
              "    }\n",
              "\n",
              "    .dataframe tbody tr th {\n",
              "        vertical-align: top;\n",
              "    }\n",
              "\n",
              "    .dataframe thead th {\n",
              "        text-align: right;\n",
              "    }\n",
              "</style>\n",
              "<table border=\"1\" class=\"dataframe\">\n",
              "  <thead>\n",
              "    <tr style=\"text-align: right;\">\n",
              "      <th></th>\n",
              "      <th>Actual</th>\n",
              "      <th>Predicted</th>\n",
              "    </tr>\n",
              "  </thead>\n",
              "  <tbody>\n",
              "    <tr>\n",
              "      <th>1098</th>\n",
              "      <td>12</td>\n",
              "      <td>15.517836</td>\n",
              "    </tr>\n",
              "    <tr>\n",
              "      <th>1048</th>\n",
              "      <td>12</td>\n",
              "      <td>22.448925</td>\n",
              "    </tr>\n",
              "    <tr>\n",
              "      <th>1532</th>\n",
              "      <td>6</td>\n",
              "      <td>9.312679</td>\n",
              "    </tr>\n",
              "    <tr>\n",
              "      <th>2524</th>\n",
              "      <td>0</td>\n",
              "      <td>1.480159</td>\n",
              "    </tr>\n",
              "    <tr>\n",
              "      <th>1529</th>\n",
              "      <td>6</td>\n",
              "      <td>11.710230</td>\n",
              "    </tr>\n",
              "    <tr>\n",
              "      <th>699</th>\n",
              "      <td>20</td>\n",
              "      <td>26.049730</td>\n",
              "    </tr>\n",
              "    <tr>\n",
              "      <th>198</th>\n",
              "      <td>54</td>\n",
              "      <td>14.648265</td>\n",
              "    </tr>\n",
              "  </tbody>\n",
              "</table>\n",
              "</div>\n",
              "      <button class=\"colab-df-convert\" onclick=\"convertToInteractive('df-d4594e37-c1f9-4f3b-8bd4-fdb13f044c1c')\"\n",
              "              title=\"Convert this dataframe to an interactive table.\"\n",
              "              style=\"display:none;\">\n",
              "        \n",
              "  <svg xmlns=\"http://www.w3.org/2000/svg\" height=\"24px\"viewBox=\"0 0 24 24\"\n",
              "       width=\"24px\">\n",
              "    <path d=\"M0 0h24v24H0V0z\" fill=\"none\"/>\n",
              "    <path d=\"M18.56 5.44l.94 2.06.94-2.06 2.06-.94-2.06-.94-.94-2.06-.94 2.06-2.06.94zm-11 1L8.5 8.5l.94-2.06 2.06-.94-2.06-.94L8.5 2.5l-.94 2.06-2.06.94zm10 10l.94 2.06.94-2.06 2.06-.94-2.06-.94-.94-2.06-.94 2.06-2.06.94z\"/><path d=\"M17.41 7.96l-1.37-1.37c-.4-.4-.92-.59-1.43-.59-.52 0-1.04.2-1.43.59L10.3 9.45l-7.72 7.72c-.78.78-.78 2.05 0 2.83L4 21.41c.39.39.9.59 1.41.59.51 0 1.02-.2 1.41-.59l7.78-7.78 2.81-2.81c.8-.78.8-2.07 0-2.86zM5.41 20L4 18.59l7.72-7.72 1.47 1.35L5.41 20z\"/>\n",
              "  </svg>\n",
              "      </button>\n",
              "      \n",
              "  <style>\n",
              "    .colab-df-container {\n",
              "      display:flex;\n",
              "      flex-wrap:wrap;\n",
              "      gap: 12px;\n",
              "    }\n",
              "\n",
              "    .colab-df-convert {\n",
              "      background-color: #E8F0FE;\n",
              "      border: none;\n",
              "      border-radius: 50%;\n",
              "      cursor: pointer;\n",
              "      display: none;\n",
              "      fill: #1967D2;\n",
              "      height: 32px;\n",
              "      padding: 0 0 0 0;\n",
              "      width: 32px;\n",
              "    }\n",
              "\n",
              "    .colab-df-convert:hover {\n",
              "      background-color: #E2EBFA;\n",
              "      box-shadow: 0px 1px 2px rgba(60, 64, 67, 0.3), 0px 1px 3px 1px rgba(60, 64, 67, 0.15);\n",
              "      fill: #174EA6;\n",
              "    }\n",
              "\n",
              "    [theme=dark] .colab-df-convert {\n",
              "      background-color: #3B4455;\n",
              "      fill: #D2E3FC;\n",
              "    }\n",
              "\n",
              "    [theme=dark] .colab-df-convert:hover {\n",
              "      background-color: #434B5C;\n",
              "      box-shadow: 0px 1px 3px 1px rgba(0, 0, 0, 0.15);\n",
              "      filter: drop-shadow(0px 1px 2px rgba(0, 0, 0, 0.3));\n",
              "      fill: #FFFFFF;\n",
              "    }\n",
              "  </style>\n",
              "\n",
              "      <script>\n",
              "        const buttonEl =\n",
              "          document.querySelector('#df-d4594e37-c1f9-4f3b-8bd4-fdb13f044c1c button.colab-df-convert');\n",
              "        buttonEl.style.display =\n",
              "          google.colab.kernel.accessAllowed ? 'block' : 'none';\n",
              "\n",
              "        async function convertToInteractive(key) {\n",
              "          const element = document.querySelector('#df-d4594e37-c1f9-4f3b-8bd4-fdb13f044c1c');\n",
              "          const dataTable =\n",
              "            await google.colab.kernel.invokeFunction('convertToInteractive',\n",
              "                                                     [key], {});\n",
              "          if (!dataTable) return;\n",
              "\n",
              "          const docLinkHtml = 'Like what you see? Visit the ' +\n",
              "            '<a target=\"_blank\" href=https://colab.research.google.com/notebooks/data_table.ipynb>data table notebook</a>'\n",
              "            + ' to learn more about interactive tables.';\n",
              "          element.innerHTML = '';\n",
              "          dataTable['output_type'] = 'display_data';\n",
              "          await google.colab.output.renderOutput(dataTable, element);\n",
              "          const docLink = document.createElement('div');\n",
              "          docLink.innerHTML = docLinkHtml;\n",
              "          element.appendChild(docLink);\n",
              "        }\n",
              "      </script>\n",
              "    </div>\n",
              "  </div>\n",
              "  "
            ]
          },
          "metadata": {},
          "execution_count": 51
        }
      ]
    },
    {
      "cell_type": "code",
      "source": [
        "# Difference between actual and predicted values\n",
        "df_gbm['Difference'] = df_gbm['Actual'] - df_gbm['Predicted']\n",
        "df_gbm[:7]"
      ],
      "metadata": {
        "colab": {
          "base_uri": "https://localhost:8080/",
          "height": 269
        },
        "id": "uwKmhdOjrEPb",
        "outputId": "5ed1b54f-d5dc-4425-b475-74519a0b4679"
      },
      "execution_count": null,
      "outputs": [
        {
          "output_type": "execute_result",
          "data": {
            "text/plain": [
              "      Actual  Predicted  Difference\n",
              "1098      12  15.517836   -3.517836\n",
              "1048      12  22.448925  -10.448925\n",
              "1532       6   9.312679   -3.312679\n",
              "2524       0   1.480159   -1.480159\n",
              "1529       6  11.710230   -5.710230\n",
              "699       20  26.049730   -6.049730\n",
              "198       54  14.648265   39.351735"
            ],
            "text/html": [
              "\n",
              "  <div id=\"df-72de4ad5-d4f7-441a-9022-33ff4757629c\">\n",
              "    <div class=\"colab-df-container\">\n",
              "      <div>\n",
              "<style scoped>\n",
              "    .dataframe tbody tr th:only-of-type {\n",
              "        vertical-align: middle;\n",
              "    }\n",
              "\n",
              "    .dataframe tbody tr th {\n",
              "        vertical-align: top;\n",
              "    }\n",
              "\n",
              "    .dataframe thead th {\n",
              "        text-align: right;\n",
              "    }\n",
              "</style>\n",
              "<table border=\"1\" class=\"dataframe\">\n",
              "  <thead>\n",
              "    <tr style=\"text-align: right;\">\n",
              "      <th></th>\n",
              "      <th>Actual</th>\n",
              "      <th>Predicted</th>\n",
              "      <th>Difference</th>\n",
              "    </tr>\n",
              "  </thead>\n",
              "  <tbody>\n",
              "    <tr>\n",
              "      <th>1098</th>\n",
              "      <td>12</td>\n",
              "      <td>15.517836</td>\n",
              "      <td>-3.517836</td>\n",
              "    </tr>\n",
              "    <tr>\n",
              "      <th>1048</th>\n",
              "      <td>12</td>\n",
              "      <td>22.448925</td>\n",
              "      <td>-10.448925</td>\n",
              "    </tr>\n",
              "    <tr>\n",
              "      <th>1532</th>\n",
              "      <td>6</td>\n",
              "      <td>9.312679</td>\n",
              "      <td>-3.312679</td>\n",
              "    </tr>\n",
              "    <tr>\n",
              "      <th>2524</th>\n",
              "      <td>0</td>\n",
              "      <td>1.480159</td>\n",
              "      <td>-1.480159</td>\n",
              "    </tr>\n",
              "    <tr>\n",
              "      <th>1529</th>\n",
              "      <td>6</td>\n",
              "      <td>11.710230</td>\n",
              "      <td>-5.710230</td>\n",
              "    </tr>\n",
              "    <tr>\n",
              "      <th>699</th>\n",
              "      <td>20</td>\n",
              "      <td>26.049730</td>\n",
              "      <td>-6.049730</td>\n",
              "    </tr>\n",
              "    <tr>\n",
              "      <th>198</th>\n",
              "      <td>54</td>\n",
              "      <td>14.648265</td>\n",
              "      <td>39.351735</td>\n",
              "    </tr>\n",
              "  </tbody>\n",
              "</table>\n",
              "</div>\n",
              "      <button class=\"colab-df-convert\" onclick=\"convertToInteractive('df-72de4ad5-d4f7-441a-9022-33ff4757629c')\"\n",
              "              title=\"Convert this dataframe to an interactive table.\"\n",
              "              style=\"display:none;\">\n",
              "        \n",
              "  <svg xmlns=\"http://www.w3.org/2000/svg\" height=\"24px\"viewBox=\"0 0 24 24\"\n",
              "       width=\"24px\">\n",
              "    <path d=\"M0 0h24v24H0V0z\" fill=\"none\"/>\n",
              "    <path d=\"M18.56 5.44l.94 2.06.94-2.06 2.06-.94-2.06-.94-.94-2.06-.94 2.06-2.06.94zm-11 1L8.5 8.5l.94-2.06 2.06-.94-2.06-.94L8.5 2.5l-.94 2.06-2.06.94zm10 10l.94 2.06.94-2.06 2.06-.94-2.06-.94-.94-2.06-.94 2.06-2.06.94z\"/><path d=\"M17.41 7.96l-1.37-1.37c-.4-.4-.92-.59-1.43-.59-.52 0-1.04.2-1.43.59L10.3 9.45l-7.72 7.72c-.78.78-.78 2.05 0 2.83L4 21.41c.39.39.9.59 1.41.59.51 0 1.02-.2 1.41-.59l7.78-7.78 2.81-2.81c.8-.78.8-2.07 0-2.86zM5.41 20L4 18.59l7.72-7.72 1.47 1.35L5.41 20z\"/>\n",
              "  </svg>\n",
              "      </button>\n",
              "      \n",
              "  <style>\n",
              "    .colab-df-container {\n",
              "      display:flex;\n",
              "      flex-wrap:wrap;\n",
              "      gap: 12px;\n",
              "    }\n",
              "\n",
              "    .colab-df-convert {\n",
              "      background-color: #E8F0FE;\n",
              "      border: none;\n",
              "      border-radius: 50%;\n",
              "      cursor: pointer;\n",
              "      display: none;\n",
              "      fill: #1967D2;\n",
              "      height: 32px;\n",
              "      padding: 0 0 0 0;\n",
              "      width: 32px;\n",
              "    }\n",
              "\n",
              "    .colab-df-convert:hover {\n",
              "      background-color: #E2EBFA;\n",
              "      box-shadow: 0px 1px 2px rgba(60, 64, 67, 0.3), 0px 1px 3px 1px rgba(60, 64, 67, 0.15);\n",
              "      fill: #174EA6;\n",
              "    }\n",
              "\n",
              "    [theme=dark] .colab-df-convert {\n",
              "      background-color: #3B4455;\n",
              "      fill: #D2E3FC;\n",
              "    }\n",
              "\n",
              "    [theme=dark] .colab-df-convert:hover {\n",
              "      background-color: #434B5C;\n",
              "      box-shadow: 0px 1px 3px 1px rgba(0, 0, 0, 0.15);\n",
              "      filter: drop-shadow(0px 1px 2px rgba(0, 0, 0, 0.3));\n",
              "      fill: #FFFFFF;\n",
              "    }\n",
              "  </style>\n",
              "\n",
              "      <script>\n",
              "        const buttonEl =\n",
              "          document.querySelector('#df-72de4ad5-d4f7-441a-9022-33ff4757629c button.colab-df-convert');\n",
              "        buttonEl.style.display =\n",
              "          google.colab.kernel.accessAllowed ? 'block' : 'none';\n",
              "\n",
              "        async function convertToInteractive(key) {\n",
              "          const element = document.querySelector('#df-72de4ad5-d4f7-441a-9022-33ff4757629c');\n",
              "          const dataTable =\n",
              "            await google.colab.kernel.invokeFunction('convertToInteractive',\n",
              "                                                     [key], {});\n",
              "          if (!dataTable) return;\n",
              "\n",
              "          const docLinkHtml = 'Like what you see? Visit the ' +\n",
              "            '<a target=\"_blank\" href=https://colab.research.google.com/notebooks/data_table.ipynb>data table notebook</a>'\n",
              "            + ' to learn more about interactive tables.';\n",
              "          element.innerHTML = '';\n",
              "          dataTable['output_type'] = 'display_data';\n",
              "          await google.colab.output.renderOutput(dataTable, element);\n",
              "          const docLink = document.createElement('div');\n",
              "          docLink.innerHTML = docLinkHtml;\n",
              "          element.appendChild(docLink);\n",
              "        }\n",
              "      </script>\n",
              "    </div>\n",
              "  </div>\n",
              "  "
            ]
          },
          "metadata": {},
          "execution_count": 52
        }
      ]
    },
    {
      "cell_type": "markdown",
      "source": [
        "The differences between actual and predicted values are high, which means our gbm model is high in variance and not a strong model."
      ],
      "metadata": {
        "id": "kY9nHYdyrYfK"
      }
    },
    {
      "cell_type": "code",
      "source": [
        "# Actual and Predicted Values\n",
        "df_dt = pd.DataFrame({'Actual': Y_test, 'Predicted': dt_predictions})\n",
        "df_dt[:7]"
      ],
      "metadata": {
        "colab": {
          "base_uri": "https://localhost:8080/",
          "height": 269
        },
        "id": "wSCrwAnXxBU1",
        "outputId": "6a9286cd-84c1-4839-a30f-1a789cd66599"
      },
      "execution_count": null,
      "outputs": [
        {
          "output_type": "execute_result",
          "data": {
            "text/plain": [
              "      Actual  Predicted\n",
              "1098      12  14.066667\n",
              "1048      12  26.812500\n",
              "1532       6   8.553846\n",
              "2524       0  10.000000\n",
              "1529       6   3.000000\n",
              "699       20  24.636364\n",
              "198       54  15.000000"
            ],
            "text/html": [
              "\n",
              "  <div id=\"df-32f8b925-d35b-42c4-a5b7-e04f9e70f9c8\">\n",
              "    <div class=\"colab-df-container\">\n",
              "      <div>\n",
              "<style scoped>\n",
              "    .dataframe tbody tr th:only-of-type {\n",
              "        vertical-align: middle;\n",
              "    }\n",
              "\n",
              "    .dataframe tbody tr th {\n",
              "        vertical-align: top;\n",
              "    }\n",
              "\n",
              "    .dataframe thead th {\n",
              "        text-align: right;\n",
              "    }\n",
              "</style>\n",
              "<table border=\"1\" class=\"dataframe\">\n",
              "  <thead>\n",
              "    <tr style=\"text-align: right;\">\n",
              "      <th></th>\n",
              "      <th>Actual</th>\n",
              "      <th>Predicted</th>\n",
              "    </tr>\n",
              "  </thead>\n",
              "  <tbody>\n",
              "    <tr>\n",
              "      <th>1098</th>\n",
              "      <td>12</td>\n",
              "      <td>14.066667</td>\n",
              "    </tr>\n",
              "    <tr>\n",
              "      <th>1048</th>\n",
              "      <td>12</td>\n",
              "      <td>26.812500</td>\n",
              "    </tr>\n",
              "    <tr>\n",
              "      <th>1532</th>\n",
              "      <td>6</td>\n",
              "      <td>8.553846</td>\n",
              "    </tr>\n",
              "    <tr>\n",
              "      <th>2524</th>\n",
              "      <td>0</td>\n",
              "      <td>10.000000</td>\n",
              "    </tr>\n",
              "    <tr>\n",
              "      <th>1529</th>\n",
              "      <td>6</td>\n",
              "      <td>3.000000</td>\n",
              "    </tr>\n",
              "    <tr>\n",
              "      <th>699</th>\n",
              "      <td>20</td>\n",
              "      <td>24.636364</td>\n",
              "    </tr>\n",
              "    <tr>\n",
              "      <th>198</th>\n",
              "      <td>54</td>\n",
              "      <td>15.000000</td>\n",
              "    </tr>\n",
              "  </tbody>\n",
              "</table>\n",
              "</div>\n",
              "      <button class=\"colab-df-convert\" onclick=\"convertToInteractive('df-32f8b925-d35b-42c4-a5b7-e04f9e70f9c8')\"\n",
              "              title=\"Convert this dataframe to an interactive table.\"\n",
              "              style=\"display:none;\">\n",
              "        \n",
              "  <svg xmlns=\"http://www.w3.org/2000/svg\" height=\"24px\"viewBox=\"0 0 24 24\"\n",
              "       width=\"24px\">\n",
              "    <path d=\"M0 0h24v24H0V0z\" fill=\"none\"/>\n",
              "    <path d=\"M18.56 5.44l.94 2.06.94-2.06 2.06-.94-2.06-.94-.94-2.06-.94 2.06-2.06.94zm-11 1L8.5 8.5l.94-2.06 2.06-.94-2.06-.94L8.5 2.5l-.94 2.06-2.06.94zm10 10l.94 2.06.94-2.06 2.06-.94-2.06-.94-.94-2.06-.94 2.06-2.06.94z\"/><path d=\"M17.41 7.96l-1.37-1.37c-.4-.4-.92-.59-1.43-.59-.52 0-1.04.2-1.43.59L10.3 9.45l-7.72 7.72c-.78.78-.78 2.05 0 2.83L4 21.41c.39.39.9.59 1.41.59.51 0 1.02-.2 1.41-.59l7.78-7.78 2.81-2.81c.8-.78.8-2.07 0-2.86zM5.41 20L4 18.59l7.72-7.72 1.47 1.35L5.41 20z\"/>\n",
              "  </svg>\n",
              "      </button>\n",
              "      \n",
              "  <style>\n",
              "    .colab-df-container {\n",
              "      display:flex;\n",
              "      flex-wrap:wrap;\n",
              "      gap: 12px;\n",
              "    }\n",
              "\n",
              "    .colab-df-convert {\n",
              "      background-color: #E8F0FE;\n",
              "      border: none;\n",
              "      border-radius: 50%;\n",
              "      cursor: pointer;\n",
              "      display: none;\n",
              "      fill: #1967D2;\n",
              "      height: 32px;\n",
              "      padding: 0 0 0 0;\n",
              "      width: 32px;\n",
              "    }\n",
              "\n",
              "    .colab-df-convert:hover {\n",
              "      background-color: #E2EBFA;\n",
              "      box-shadow: 0px 1px 2px rgba(60, 64, 67, 0.3), 0px 1px 3px 1px rgba(60, 64, 67, 0.15);\n",
              "      fill: #174EA6;\n",
              "    }\n",
              "\n",
              "    [theme=dark] .colab-df-convert {\n",
              "      background-color: #3B4455;\n",
              "      fill: #D2E3FC;\n",
              "    }\n",
              "\n",
              "    [theme=dark] .colab-df-convert:hover {\n",
              "      background-color: #434B5C;\n",
              "      box-shadow: 0px 1px 3px 1px rgba(0, 0, 0, 0.15);\n",
              "      filter: drop-shadow(0px 1px 2px rgba(0, 0, 0, 0.3));\n",
              "      fill: #FFFFFF;\n",
              "    }\n",
              "  </style>\n",
              "\n",
              "      <script>\n",
              "        const buttonEl =\n",
              "          document.querySelector('#df-32f8b925-d35b-42c4-a5b7-e04f9e70f9c8 button.colab-df-convert');\n",
              "        buttonEl.style.display =\n",
              "          google.colab.kernel.accessAllowed ? 'block' : 'none';\n",
              "\n",
              "        async function convertToInteractive(key) {\n",
              "          const element = document.querySelector('#df-32f8b925-d35b-42c4-a5b7-e04f9e70f9c8');\n",
              "          const dataTable =\n",
              "            await google.colab.kernel.invokeFunction('convertToInteractive',\n",
              "                                                     [key], {});\n",
              "          if (!dataTable) return;\n",
              "\n",
              "          const docLinkHtml = 'Like what you see? Visit the ' +\n",
              "            '<a target=\"_blank\" href=https://colab.research.google.com/notebooks/data_table.ipynb>data table notebook</a>'\n",
              "            + ' to learn more about interactive tables.';\n",
              "          element.innerHTML = '';\n",
              "          dataTable['output_type'] = 'display_data';\n",
              "          await google.colab.output.renderOutput(dataTable, element);\n",
              "          const docLink = document.createElement('div');\n",
              "          docLink.innerHTML = docLinkHtml;\n",
              "          element.appendChild(docLink);\n",
              "        }\n",
              "      </script>\n",
              "    </div>\n",
              "  </div>\n",
              "  "
            ]
          },
          "metadata": {},
          "execution_count": 53
        }
      ]
    },
    {
      "cell_type": "code",
      "source": [
        "# Difference between actual and predicted values\n",
        "df_dt['Difference'] = df_dt['Actual'] - df_dt['Predicted']\n",
        "df_dt[:7]"
      ],
      "metadata": {
        "colab": {
          "base_uri": "https://localhost:8080/",
          "height": 269
        },
        "id": "8pSTl5E3raBz",
        "outputId": "2b48dfa5-bedd-4d3b-e96b-349d00a5fd7b"
      },
      "execution_count": null,
      "outputs": [
        {
          "output_type": "execute_result",
          "data": {
            "text/plain": [
              "      Actual  Predicted  Difference\n",
              "1098      12  14.066667   -2.066667\n",
              "1048      12  26.812500  -14.812500\n",
              "1532       6   8.553846   -2.553846\n",
              "2524       0  10.000000  -10.000000\n",
              "1529       6   3.000000    3.000000\n",
              "699       20  24.636364   -4.636364\n",
              "198       54  15.000000   39.000000"
            ],
            "text/html": [
              "\n",
              "  <div id=\"df-9bc10855-bb52-40da-bec6-b16d72b34664\">\n",
              "    <div class=\"colab-df-container\">\n",
              "      <div>\n",
              "<style scoped>\n",
              "    .dataframe tbody tr th:only-of-type {\n",
              "        vertical-align: middle;\n",
              "    }\n",
              "\n",
              "    .dataframe tbody tr th {\n",
              "        vertical-align: top;\n",
              "    }\n",
              "\n",
              "    .dataframe thead th {\n",
              "        text-align: right;\n",
              "    }\n",
              "</style>\n",
              "<table border=\"1\" class=\"dataframe\">\n",
              "  <thead>\n",
              "    <tr style=\"text-align: right;\">\n",
              "      <th></th>\n",
              "      <th>Actual</th>\n",
              "      <th>Predicted</th>\n",
              "      <th>Difference</th>\n",
              "    </tr>\n",
              "  </thead>\n",
              "  <tbody>\n",
              "    <tr>\n",
              "      <th>1098</th>\n",
              "      <td>12</td>\n",
              "      <td>14.066667</td>\n",
              "      <td>-2.066667</td>\n",
              "    </tr>\n",
              "    <tr>\n",
              "      <th>1048</th>\n",
              "      <td>12</td>\n",
              "      <td>26.812500</td>\n",
              "      <td>-14.812500</td>\n",
              "    </tr>\n",
              "    <tr>\n",
              "      <th>1532</th>\n",
              "      <td>6</td>\n",
              "      <td>8.553846</td>\n",
              "      <td>-2.553846</td>\n",
              "    </tr>\n",
              "    <tr>\n",
              "      <th>2524</th>\n",
              "      <td>0</td>\n",
              "      <td>10.000000</td>\n",
              "      <td>-10.000000</td>\n",
              "    </tr>\n",
              "    <tr>\n",
              "      <th>1529</th>\n",
              "      <td>6</td>\n",
              "      <td>3.000000</td>\n",
              "      <td>3.000000</td>\n",
              "    </tr>\n",
              "    <tr>\n",
              "      <th>699</th>\n",
              "      <td>20</td>\n",
              "      <td>24.636364</td>\n",
              "      <td>-4.636364</td>\n",
              "    </tr>\n",
              "    <tr>\n",
              "      <th>198</th>\n",
              "      <td>54</td>\n",
              "      <td>15.000000</td>\n",
              "      <td>39.000000</td>\n",
              "    </tr>\n",
              "  </tbody>\n",
              "</table>\n",
              "</div>\n",
              "      <button class=\"colab-df-convert\" onclick=\"convertToInteractive('df-9bc10855-bb52-40da-bec6-b16d72b34664')\"\n",
              "              title=\"Convert this dataframe to an interactive table.\"\n",
              "              style=\"display:none;\">\n",
              "        \n",
              "  <svg xmlns=\"http://www.w3.org/2000/svg\" height=\"24px\"viewBox=\"0 0 24 24\"\n",
              "       width=\"24px\">\n",
              "    <path d=\"M0 0h24v24H0V0z\" fill=\"none\"/>\n",
              "    <path d=\"M18.56 5.44l.94 2.06.94-2.06 2.06-.94-2.06-.94-.94-2.06-.94 2.06-2.06.94zm-11 1L8.5 8.5l.94-2.06 2.06-.94-2.06-.94L8.5 2.5l-.94 2.06-2.06.94zm10 10l.94 2.06.94-2.06 2.06-.94-2.06-.94-.94-2.06-.94 2.06-2.06.94z\"/><path d=\"M17.41 7.96l-1.37-1.37c-.4-.4-.92-.59-1.43-.59-.52 0-1.04.2-1.43.59L10.3 9.45l-7.72 7.72c-.78.78-.78 2.05 0 2.83L4 21.41c.39.39.9.59 1.41.59.51 0 1.02-.2 1.41-.59l7.78-7.78 2.81-2.81c.8-.78.8-2.07 0-2.86zM5.41 20L4 18.59l7.72-7.72 1.47 1.35L5.41 20z\"/>\n",
              "  </svg>\n",
              "      </button>\n",
              "      \n",
              "  <style>\n",
              "    .colab-df-container {\n",
              "      display:flex;\n",
              "      flex-wrap:wrap;\n",
              "      gap: 12px;\n",
              "    }\n",
              "\n",
              "    .colab-df-convert {\n",
              "      background-color: #E8F0FE;\n",
              "      border: none;\n",
              "      border-radius: 50%;\n",
              "      cursor: pointer;\n",
              "      display: none;\n",
              "      fill: #1967D2;\n",
              "      height: 32px;\n",
              "      padding: 0 0 0 0;\n",
              "      width: 32px;\n",
              "    }\n",
              "\n",
              "    .colab-df-convert:hover {\n",
              "      background-color: #E2EBFA;\n",
              "      box-shadow: 0px 1px 2px rgba(60, 64, 67, 0.3), 0px 1px 3px 1px rgba(60, 64, 67, 0.15);\n",
              "      fill: #174EA6;\n",
              "    }\n",
              "\n",
              "    [theme=dark] .colab-df-convert {\n",
              "      background-color: #3B4455;\n",
              "      fill: #D2E3FC;\n",
              "    }\n",
              "\n",
              "    [theme=dark] .colab-df-convert:hover {\n",
              "      background-color: #434B5C;\n",
              "      box-shadow: 0px 1px 3px 1px rgba(0, 0, 0, 0.15);\n",
              "      filter: drop-shadow(0px 1px 2px rgba(0, 0, 0, 0.3));\n",
              "      fill: #FFFFFF;\n",
              "    }\n",
              "  </style>\n",
              "\n",
              "      <script>\n",
              "        const buttonEl =\n",
              "          document.querySelector('#df-9bc10855-bb52-40da-bec6-b16d72b34664 button.colab-df-convert');\n",
              "        buttonEl.style.display =\n",
              "          google.colab.kernel.accessAllowed ? 'block' : 'none';\n",
              "\n",
              "        async function convertToInteractive(key) {\n",
              "          const element = document.querySelector('#df-9bc10855-bb52-40da-bec6-b16d72b34664');\n",
              "          const dataTable =\n",
              "            await google.colab.kernel.invokeFunction('convertToInteractive',\n",
              "                                                     [key], {});\n",
              "          if (!dataTable) return;\n",
              "\n",
              "          const docLinkHtml = 'Like what you see? Visit the ' +\n",
              "            '<a target=\"_blank\" href=https://colab.research.google.com/notebooks/data_table.ipynb>data table notebook</a>'\n",
              "            + ' to learn more about interactive tables.';\n",
              "          element.innerHTML = '';\n",
              "          dataTable['output_type'] = 'display_data';\n",
              "          await google.colab.output.renderOutput(dataTable, element);\n",
              "          const docLink = document.createElement('div');\n",
              "          docLink.innerHTML = docLinkHtml;\n",
              "          element.appendChild(docLink);\n",
              "        }\n",
              "      </script>\n",
              "    </div>\n",
              "  </div>\n",
              "  "
            ]
          },
          "metadata": {},
          "execution_count": 54
        }
      ]
    },
    {
      "cell_type": "markdown",
      "source": [
        "The differences between actual and predicted values are high, which means our dt model is high in variance and not a strong model."
      ],
      "metadata": {
        "id": "QMjPizaArv2B"
      }
    },
    {
      "cell_type": "code",
      "source": [
        "# Plotting our predictions\n",
        "plt.figure(figsize=(10,5))\n",
        "plt.scatter(Y_test, lm_predictions, c = 'palevioletred')\n",
        "plt.xlabel('Actual Values')\n",
        "plt.ylabel('Predicted Values')\n",
        "plt.title(\"Multiple Linear Regression Model\")"
      ],
      "metadata": {
        "colab": {
          "base_uri": "https://localhost:8080/",
          "height": 373
        },
        "id": "d7y7pSs3v636",
        "outputId": "a2f429d0-7d25-43ec-a282-f8f1868b5fb6"
      },
      "execution_count": null,
      "outputs": [
        {
          "output_type": "execute_result",
          "data": {
            "text/plain": [
              "Text(0.5, 1.0, 'Multiple Linear Regression Model')"
            ]
          },
          "metadata": {},
          "execution_count": 55
        },
        {
          "output_type": "display_data",
          "data": {
            "text/plain": [
              "<Figure size 720x360 with 1 Axes>"
            ],
            "image/png": "[encoded data removed]"
          },
          "metadata": {}
        }
      ]
    },
    {
      "cell_type": "code",
      "source": [
        "# Plotting our predictions\n",
        "plt.figure(figsize=(10,5))\n",
        "plt.scatter(Y_test, gbm_predictions, c = 'palevioletred')\n",
        "plt.xlabel('Actual Values')\n",
        "plt.ylabel('Predicted Values')\n",
        "plt.title(\"Gradien Boosting Model\")"
      ],
      "metadata": {
        "colab": {
          "base_uri": "https://localhost:8080/",
          "height": 373
        },
        "id": "oWjQfIExwZvt",
        "outputId": "e8f2a3fd-2d1b-4396-8c08-aa3f47ad376b"
      },
      "execution_count": null,
      "outputs": [
        {
          "output_type": "execute_result",
          "data": {
            "text/plain": [
              "Text(0.5, 1.0, 'Gradien Boosting Model')"
            ]
          },
          "metadata": {},
          "execution_count": 56
        },
        {
          "output_type": "display_data",
          "data": {
            "text/plain": [
              "<Figure size 720x360 with 1 Axes>"
            ],
            "image/png": "[encoded data removed]"
          },
          "metadata": {}
        }
      ]
    },
    {
      "cell_type": "code",
      "source": [
        "# Plotting our predictions\n",
        "plt.figure(figsize=(10,5))\n",
        "plt.scatter(Y_test, dt_predictions, c = 'palevioletred')\n",
        "plt.xlabel('Actual Values')\n",
        "plt.ylabel('Predicted Values')\n",
        "plt.title(\"Decision Tree Model\")"
      ],
      "metadata": {
        "colab": {
          "base_uri": "https://localhost:8080/",
          "height": 373
        },
        "id": "8uDvnA-Fwgxd",
        "outputId": "3ff8e545-980b-4db7-951d-fa7c61d67992"
      },
      "execution_count": null,
      "outputs": [
        {
          "output_type": "execute_result",
          "data": {
            "text/plain": [
              "Text(0.5, 1.0, 'Decision Tree Model')"
            ]
          },
          "metadata": {},
          "execution_count": 57
        },
        {
          "output_type": "display_data",
          "data": {
            "text/plain": [
              "<Figure size 720x360 with 1 Axes>"
            ],
            "image/png": "[encoded data removed]"
          },
          "metadata": {}
        }
      ]
    }
  ]
}